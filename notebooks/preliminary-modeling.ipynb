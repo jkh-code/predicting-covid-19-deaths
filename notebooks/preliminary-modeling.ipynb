{
 "cells": [
  {
   "cell_type": "markdown",
   "id": "fee76292",
   "metadata": {},
   "source": [
    "# Preliminary Predictive Modeling"
   ]
  },
  {
   "cell_type": "code",
   "execution_count": 1,
   "id": "64d17c22",
   "metadata": {},
   "outputs": [],
   "source": [
    "import pandas as pd\n",
    "import numpy as np\n",
    "\n",
    "import matplotlib.pyplot as plt\n",
    "plt.style.use(\"ggplot\")\n",
    "%matplotlib inline\n",
    "\n",
    "from sklearn.dummy import DummyClassifier\n",
    "from sklearn.preprocessing import MinMaxScaler\n",
    "from sklearn.linear_model import LogisticRegression\n",
    "from sklearn.ensemble import RandomForestClassifier\n",
    "from sklearn.model_selection import train_test_split\n",
    "from sklearn.metrics import recall_score, precision_score, confusion_matrix, ConfusionMatrixDisplay, precision_recall_curve\n",
    "\n",
    "# import shap\n",
    "\n",
    "from typing import List, Tuple, Union\n",
    "\n",
    "import joblib\n",
    "\n",
    "pd.set_option(\"display.max_columns\", None)"
   ]
  },
  {
   "cell_type": "code",
   "execution_count": 2,
   "id": "886189ca",
   "metadata": {},
   "outputs": [],
   "source": [
    "from pipeline_to_sql import make_postgres_conn"
   ]
  },
  {
   "cell_type": "markdown",
   "id": "d8fd9355",
   "metadata": {},
   "source": [
    "## Functions"
   ]
  },
  {
   "cell_type": "code",
   "execution_count": 3,
   "id": "627e9621",
   "metadata": {},
   "outputs": [],
   "source": [
    "def transform_df(df: pd.DataFrame, columns2drop: List[str]) -> pd.DataFrame:\n",
    "    df_ = df.copy()\n",
    "    df_['death_yn'] = np.where(df_['death_yn']=='Yes', 1, 0)\n",
    "    df_['low_income_score'] = df_['low_income_score'].replace(\n",
    "        [0.0, 7.0, 15.0], ['Low', 'Medium', 'High'])\n",
    "    df_['case_month'] = pd.to_datetime(df_['case_month']).dt.month_name()\n",
    "    \n",
    "    df_ = df_.loc[df_['current_status'] == 'Laboratory-confirmed case', :]\n",
    "    df_.reset_index(drop=True, inplace=True)\n",
    "    df_ = df_.drop(columns=columns_drop)\n",
    "    return df_"
   ]
  },
  {
   "cell_type": "code",
   "execution_count": 4,
   "id": "7788e3ad",
   "metadata": {},
   "outputs": [],
   "source": [
    "def return_dummified_df(df: pd.DataFrame, dummy_columns: List[str], \n",
    "        drop_first: bool=False) -> pd.DataFrame:\n",
    "    return pd.get_dummies(df, columns=dummy_columns, drop_first=drop_first)"
   ]
  },
  {
   "cell_type": "code",
   "execution_count": 5,
   "id": "789b2861",
   "metadata": {},
   "outputs": [],
   "source": [
    "def return_X_y_arrays(\n",
    "        df:pd.DataFrame, y_column: str='death_yn'\n",
    "        ) -> Tuple[np.ndarray, np.ndarray]:\n",
    "    X = df.loc[:, df.columns != y_column]\n",
    "    y = df.loc[:, y_column]\n",
    "    return X.values, y.values"
   ]
  },
  {
   "cell_type": "code",
   "execution_count": 6,
   "id": "0f8ddf79",
   "metadata": {},
   "outputs": [],
   "source": [
    "def get_sql_data(\n",
    "        db_name: str, query: str, params: Union[int, None]=None) -> pd.DataFrame:\n",
    "    conn = make_postgres_conn(db_name)\n",
    "    \n",
    "    if not params:\n",
    "        df = pd.read_sql(query, conn)\n",
    "    else:\n",
    "        df = pd.read_sql(query, conn, params=params)\n",
    "        \n",
    "    conn.close()\n",
    "    return df"
   ]
  },
  {
   "cell_type": "code",
   "execution_count": 7,
   "id": "b7f8a335",
   "metadata": {},
   "outputs": [],
   "source": [
    "def transform_missing_data(df: pd.DataFrame) -> pd.DataFrame:\n",
    "    df_ = df.copy()\n",
    "\n",
    "    df_ = df_[~df_['res_county'].isna()]\n",
    "\n",
    "    df_['age_group'] = df_['age_group'].fillna(df_['age_group'].mode()[0])\n",
    "    df_['sex'] = df_['sex'].fillna(df_['sex'].mode()[0])\n",
    "    df_['race'] = df_['race'].fillna(df_['race'].mode()[0])\n",
    "    df_['ethnicity'] = df_['ethnicity'].fillna(df_['ethnicity'].mode()[0])\n",
    "    df_['case_positive_specimen_interval'] = (\n",
    "        df_['case_positive_specimen_interval'].fillna(\n",
    "            df_['case_positive_specimen_interval'].median()))\n",
    "    df_['case_onset_interval'] = (\n",
    "        df_['case_onset_interval'].fillna(\n",
    "            df_['case_onset_interval'].median()))\n",
    "    \n",
    "    return df_"
   ]
  },
  {
   "cell_type": "code",
   "execution_count": 8,
   "id": "531dd8f9",
   "metadata": {},
   "outputs": [],
   "source": [
    "def plot_precision_recall_curve(\n",
    "        model, X_test, y_test, label='Model Name', title='Your Title'):\n",
    "    probs = model.predict_proba(X_test)[:, 1]\n",
    "    prec, rec, _ = precision_recall_curve(y_test, probs)\n",
    "    \n",
    "    fig, ax = plt.subplots(figsize=(10, 6))\n",
    "    no_skill = len(y_test[y_test==1]) / len(y_test)\n",
    "    ax.plot([0, 1], [no_skill, no_skill], linestyle='--', label='Random')\n",
    "    ax.plot(rec, prec, marker='.', label=label)\n",
    "    ax.set_xlabel('Recall')\n",
    "    ax.set_ylabel('Precision')\n",
    "    ax.set_title(title)\n",
    "    fig.legend(loc='upper right', bbox_to_anchor=(0.9, 0.85));"
   ]
  },
  {
   "cell_type": "code",
   "execution_count": 9,
   "id": "6074948e",
   "metadata": {},
   "outputs": [],
   "source": [
    "def plot_random_forest_feature_importance_mdi(data, model, title='Your Title'):\n",
    "    feat_scores = pd.DataFrame(\n",
    "        {'Fraction of Samples Affected': model.feature_importances_},\n",
    "        index=data.loc[:, data.columns != 'death_yn'].columns)\n",
    "    feat_scores = feat_scores.sort_values(by='Fraction of Samples Affected', ascending=False)[:10]\n",
    "    feat_scores = feat_scores.sort_values(by='Fraction of Samples Affected')\n",
    "    \n",
    "    fig, ax = plt.subplots(figsize=(10, 7))\n",
    "    feat_scores.plot(kind='barh', ax=ax)\n",
    "    ax.set_title(title)\n",
    "    ax.set_ylabel('Feature')\n",
    "    ax.set_xlabel('Mean Decrease Impurity');"
   ]
  },
  {
   "cell_type": "code",
   "execution_count": null,
   "id": "80209086",
   "metadata": {},
   "outputs": [],
   "source": []
  },
  {
   "cell_type": "markdown",
   "id": "b2b82c36",
   "metadata": {},
   "source": [
    "## Loading data"
   ]
  },
  {
   "cell_type": "code",
   "execution_count": 10,
   "id": "e6fb9a08",
   "metadata": {},
   "outputs": [],
   "source": [
    "no_nulls_query = \"\"\"\n",
    "            SELECT *\n",
    "            FROM no_null_data;\n",
    "            \"\"\""
   ]
  },
  {
   "cell_type": "code",
   "execution_count": 11,
   "id": "4e6a5929",
   "metadata": {},
   "outputs": [
    {
     "ename": "OperationalError",
     "evalue": "could not connect to server: Connection refused\n\tIs the server running on host \"localhost\" (::1) and accepting\n\tTCP/IP connections on port 5432?\ncould not connect to server: Connection refused\n\tIs the server running on host \"localhost\" (127.0.0.1) and accepting\n\tTCP/IP connections on port 5432?\n",
     "output_type": "error",
     "traceback": [
      "\u001b[0;31m---------------------------------------------------------------------------\u001b[0m",
      "\u001b[0;31mOperationalError\u001b[0m                          Traceback (most recent call last)",
      "\u001b[0;32m<ipython-input-11-f4d583053854>\u001b[0m in \u001b[0;36m<module>\u001b[0;34m\u001b[0m\n\u001b[0;32m----> 1\u001b[0;31m \u001b[0mdf\u001b[0m \u001b[0;34m=\u001b[0m \u001b[0mget_sql_data\u001b[0m\u001b[0;34m(\u001b[0m\u001b[0;34m'covid_cases'\u001b[0m\u001b[0;34m,\u001b[0m \u001b[0mno_nulls_query\u001b[0m\u001b[0;34m)\u001b[0m\u001b[0;34m\u001b[0m\u001b[0;34m\u001b[0m\u001b[0m\n\u001b[0m",
      "\u001b[0;32m<ipython-input-6-75e7a77a0343>\u001b[0m in \u001b[0;36mget_sql_data\u001b[0;34m(db_name, query, params)\u001b[0m\n\u001b[1;32m      1\u001b[0m def get_sql_data(\n\u001b[1;32m      2\u001b[0m         db_name: str, query: str, params: Union[int, None]=None) -> pd.DataFrame:\n\u001b[0;32m----> 3\u001b[0;31m     \u001b[0mconn\u001b[0m \u001b[0;34m=\u001b[0m \u001b[0mmake_postgres_conn\u001b[0m\u001b[0;34m(\u001b[0m\u001b[0mdb_name\u001b[0m\u001b[0;34m)\u001b[0m\u001b[0;34m\u001b[0m\u001b[0;34m\u001b[0m\u001b[0m\n\u001b[0m\u001b[1;32m      4\u001b[0m \u001b[0;34m\u001b[0m\u001b[0m\n\u001b[1;32m      5\u001b[0m     \u001b[0;32mif\u001b[0m \u001b[0;32mnot\u001b[0m \u001b[0mparams\u001b[0m\u001b[0;34m:\u001b[0m\u001b[0;34m\u001b[0m\u001b[0;34m\u001b[0m\u001b[0m\n",
      "\u001b[0;32m~/Workspace/predicting-covid-19-deaths/src/pipeline_to_sql.py\u001b[0m in \u001b[0;36mmake_postgres_conn\u001b[0;34m(dbname, port)\u001b[0m\n\u001b[1;32m     11\u001b[0m def make_postgres_conn(\n\u001b[1;32m     12\u001b[0m         dbname: str='postgres', port: int=5432) -> pg2.extensions.connection:\n\u001b[0;32m---> 13\u001b[0;31m     conn = pg2.connect(\n\u001b[0m\u001b[1;32m     14\u001b[0m         \u001b[0mdbname\u001b[0m\u001b[0;34m=\u001b[0m\u001b[0mdbname\u001b[0m\u001b[0;34m,\u001b[0m\u001b[0;34m\u001b[0m\u001b[0;34m\u001b[0m\u001b[0m\n\u001b[1;32m     15\u001b[0m         \u001b[0mport\u001b[0m\u001b[0;34m=\u001b[0m\u001b[0mport\u001b[0m\u001b[0;34m,\u001b[0m\u001b[0;34m\u001b[0m\u001b[0;34m\u001b[0m\u001b[0m\n",
      "\u001b[0;32m~/opt/anaconda3/lib/python3.8/site-packages/psycopg2/__init__.py\u001b[0m in \u001b[0;36mconnect\u001b[0;34m(dsn, connection_factory, cursor_factory, **kwargs)\u001b[0m\n\u001b[1;32m    125\u001b[0m \u001b[0;34m\u001b[0m\u001b[0m\n\u001b[1;32m    126\u001b[0m     \u001b[0mdsn\u001b[0m \u001b[0;34m=\u001b[0m \u001b[0m_ext\u001b[0m\u001b[0;34m.\u001b[0m\u001b[0mmake_dsn\u001b[0m\u001b[0;34m(\u001b[0m\u001b[0mdsn\u001b[0m\u001b[0;34m,\u001b[0m \u001b[0;34m**\u001b[0m\u001b[0mkwargs\u001b[0m\u001b[0;34m)\u001b[0m\u001b[0;34m\u001b[0m\u001b[0;34m\u001b[0m\u001b[0m\n\u001b[0;32m--> 127\u001b[0;31m     \u001b[0mconn\u001b[0m \u001b[0;34m=\u001b[0m \u001b[0m_connect\u001b[0m\u001b[0;34m(\u001b[0m\u001b[0mdsn\u001b[0m\u001b[0;34m,\u001b[0m \u001b[0mconnection_factory\u001b[0m\u001b[0;34m=\u001b[0m\u001b[0mconnection_factory\u001b[0m\u001b[0;34m,\u001b[0m \u001b[0;34m**\u001b[0m\u001b[0mkwasync\u001b[0m\u001b[0;34m)\u001b[0m\u001b[0;34m\u001b[0m\u001b[0;34m\u001b[0m\u001b[0m\n\u001b[0m\u001b[1;32m    128\u001b[0m     \u001b[0;32mif\u001b[0m \u001b[0mcursor_factory\u001b[0m \u001b[0;32mis\u001b[0m \u001b[0;32mnot\u001b[0m \u001b[0;32mNone\u001b[0m\u001b[0;34m:\u001b[0m\u001b[0;34m\u001b[0m\u001b[0;34m\u001b[0m\u001b[0m\n\u001b[1;32m    129\u001b[0m         \u001b[0mconn\u001b[0m\u001b[0;34m.\u001b[0m\u001b[0mcursor_factory\u001b[0m \u001b[0;34m=\u001b[0m \u001b[0mcursor_factory\u001b[0m\u001b[0;34m\u001b[0m\u001b[0;34m\u001b[0m\u001b[0m\n",
      "\u001b[0;31mOperationalError\u001b[0m: could not connect to server: Connection refused\n\tIs the server running on host \"localhost\" (::1) and accepting\n\tTCP/IP connections on port 5432?\ncould not connect to server: Connection refused\n\tIs the server running on host \"localhost\" (127.0.0.1) and accepting\n\tTCP/IP connections on port 5432?\n"
     ]
    }
   ],
   "source": [
    "df = get_sql_data('covid_cases', no_nulls_query)"
   ]
  },
  {
   "cell_type": "code",
   "execution_count": null,
   "id": "4a725022",
   "metadata": {},
   "outputs": [],
   "source": [
    "df.shape[0]"
   ]
  },
  {
   "cell_type": "markdown",
   "id": "10215dcd",
   "metadata": {},
   "source": [
    "## Data transformation"
   ]
  },
  {
   "cell_type": "code",
   "execution_count": null,
   "id": "5a006d2f",
   "metadata": {},
   "outputs": [],
   "source": [
    "columns_drop = ['res_county', 'county_fips_code', 'process', 'current_status']\n",
    "columns_dummy = ['case_month', 'res_state', 'age_group', 'sex', 'race', 'ethnicity', \n",
    "'exposure_yn', 'symptom_status', 'hosp_yn', 'icu_yn', 'underlying_conditions_yn', \n",
    "'low_income_score']"
   ]
  },
  {
   "cell_type": "code",
   "execution_count": null,
   "id": "4353ae4c",
   "metadata": {},
   "outputs": [],
   "source": [
    "df.shape[0]"
   ]
  },
  {
   "cell_type": "code",
   "execution_count": null,
   "id": "7e2a25ec",
   "metadata": {},
   "outputs": [],
   "source": [
    "df = transform_df(df, columns2drop=columns_drop)"
   ]
  },
  {
   "cell_type": "code",
   "execution_count": null,
   "id": "e4a689fb",
   "metadata": {},
   "outputs": [],
   "source": [
    "df.shape[0]"
   ]
  },
  {
   "cell_type": "markdown",
   "id": "8ea4a54e",
   "metadata": {},
   "source": [
    "## Dummy Classifier"
   ]
  },
  {
   "cell_type": "code",
   "execution_count": null,
   "id": "46489919",
   "metadata": {},
   "outputs": [],
   "source": [
    "data_rf = return_dummified_df(df, columns_dummy, drop_first=False)"
   ]
  },
  {
   "cell_type": "code",
   "execution_count": null,
   "id": "ebd8a049",
   "metadata": {},
   "outputs": [],
   "source": [
    "X_rf, y_rf = return_X_y_arrays(data_rf)"
   ]
  },
  {
   "cell_type": "code",
   "execution_count": null,
   "id": "58daeb45",
   "metadata": {},
   "outputs": [],
   "source": [
    "y_rf"
   ]
  },
  {
   "cell_type": "code",
   "execution_count": null,
   "id": "692d97e6",
   "metadata": {},
   "outputs": [],
   "source": [
    "X_rf_train, X_rf_test, y_rf_train, y_rf_test = train_test_split(X_rf, y_rf, test_size=0.2)"
   ]
  },
  {
   "cell_type": "code",
   "execution_count": null,
   "id": "b1d207f1",
   "metadata": {},
   "outputs": [],
   "source": [
    "model_dum = DummyClassifier(strategy='stratified')\n",
    "model_dum.fit(X_rf_train, y_rf_train)"
   ]
  },
  {
   "cell_type": "code",
   "execution_count": null,
   "id": "4a340319",
   "metadata": {},
   "outputs": [],
   "source": [
    "y_dum_pred = model_dum.predict(X_rf_test)"
   ]
  },
  {
   "cell_type": "code",
   "execution_count": null,
   "id": "ea9418ff",
   "metadata": {},
   "outputs": [],
   "source": [
    "def print_recall_precision(y_test, y_pred):\n",
    "    print(f'Recall:    {recall_score(y_test, y_pred):0.5f}')\n",
    "    print(f'Precision: {precision_score(y_test, y_pred):0.5f}')"
   ]
  },
  {
   "cell_type": "code",
   "execution_count": null,
   "id": "1cd0f458",
   "metadata": {},
   "outputs": [],
   "source": [
    "print_recall_precision(y_rf_test, y_dum_pred)"
   ]
  },
  {
   "cell_type": "markdown",
   "id": "b71b7cd3",
   "metadata": {},
   "source": [
    "## Logistic Regression"
   ]
  },
  {
   "cell_type": "code",
   "execution_count": null,
   "id": "a5200bbc",
   "metadata": {},
   "outputs": [],
   "source": [
    "data_log = return_dummified_df(df, columns_dummy, drop_first=True)"
   ]
  },
  {
   "cell_type": "code",
   "execution_count": null,
   "id": "691915b6",
   "metadata": {},
   "outputs": [],
   "source": [
    "data_log.shape"
   ]
  },
  {
   "cell_type": "code",
   "execution_count": null,
   "id": "46fce9f9",
   "metadata": {},
   "outputs": [],
   "source": [
    "X_log, y_log = return_X_y_arrays(data_log)"
   ]
  },
  {
   "cell_type": "code",
   "execution_count": null,
   "id": "bfe87b81",
   "metadata": {},
   "outputs": [],
   "source": [
    "X_log[:, :2]"
   ]
  },
  {
   "cell_type": "code",
   "execution_count": null,
   "id": "690712cc",
   "metadata": {},
   "outputs": [],
   "source": [
    "scaler_mms = MinMaxScaler()\n",
    "scaler_mms.fit(X_log[:, :2])"
   ]
  },
  {
   "cell_type": "code",
   "execution_count": null,
   "id": "324680a2",
   "metadata": {},
   "outputs": [],
   "source": [
    "X_log[:, :2] = scaler_mms.transform(X_log[:, :2])"
   ]
  },
  {
   "cell_type": "code",
   "execution_count": null,
   "id": "2f4e4037",
   "metadata": {},
   "outputs": [],
   "source": [
    "X_log_train, X_log_test, y_log_train, y_log_test = train_test_split(X_log, y_log, test_size=0.2)"
   ]
  },
  {
   "cell_type": "code",
   "execution_count": null,
   "id": "8cbef887",
   "metadata": {},
   "outputs": [],
   "source": [
    "model_log = LogisticRegression(solver='lbfgs', max_iter=500)"
   ]
  },
  {
   "cell_type": "code",
   "execution_count": null,
   "id": "90261e52",
   "metadata": {},
   "outputs": [],
   "source": [
    "model_log.fit(X_log_train, y_log_train)"
   ]
  },
  {
   "cell_type": "code",
   "execution_count": null,
   "id": "472c61ed",
   "metadata": {},
   "outputs": [],
   "source": [
    "yhat_log = model_log.predict(X_log_test)\n",
    "# log_probs = model_log.predict_proba(X_log_test)[:, 1]\n",
    "# log_prec, log_rec, _ = precision_recall_curve(y_log_test, log_probs)"
   ]
  },
  {
   "cell_type": "code",
   "execution_count": null,
   "id": "a912e928",
   "metadata": {},
   "outputs": [],
   "source": [
    "# fig, ax = plt.subplots(figsize=(10, 6))\n",
    "# no_skill = len(y_log_test[y_log_test==1]) / len(y_log_test)\n",
    "# ax.plot([0, 1], [no_skill, no_skill], linestyle='--', label='Random')\n",
    "# ax.plot(log_rec, log_prec, marker='.', label='Logistic')\n",
    "# ax.set_xlabel('Recall')\n",
    "# ax.set_ylabel('Precision')\n",
    "# ax.set_title('Precision-Recall Plot: Logistic, 57.5k rows, No Null and Missing Values')\n",
    "# fig.legend(loc='upper right', bbox_to_anchor=(0.9, 0.85));"
   ]
  },
  {
   "cell_type": "code",
   "execution_count": null,
   "id": "d4b41b87",
   "metadata": {},
   "outputs": [],
   "source": [
    "plot_precision_recall_curve(\n",
    "    model_log, X_log_test, y_log_test, label='Logistic', \n",
    "    title=('Precision-Recall Plot: Logistic '\n",
    "        + ', 57.5k rows, No Null and Missing Values'))\n",
    "plt.savefig('./../images/prp-logistic-no-null-no-missing.png');"
   ]
  },
  {
   "cell_type": "code",
   "execution_count": null,
   "id": "0b6014af",
   "metadata": {},
   "outputs": [],
   "source": [
    "print_recall_precision(y_log_test, yhat_log)"
   ]
  },
  {
   "cell_type": "code",
   "execution_count": null,
   "id": "1bdd44c2",
   "metadata": {},
   "outputs": [],
   "source": [
    "fig, ax = plt.subplots(figsize=(10, 7))\n",
    "cm_log = confusion_matrix(y_log_test, yhat_log, labels=model_log.classes_)\n",
    "disp = ConfusionMatrixDisplay(confusion_matrix=cm_log, display_labels=model_log.classes_)\n",
    "disp.plot(ax=ax)\n",
    "ax.set_title('Logistic, 57.5k rows, No Null and Missing Values', fontsize=18)\n",
    "ax.tick_params(axis='both', labelsize=16)\n",
    "ax.set_ylabel(ax.get_ylabel(), fontsize=16)\n",
    "ax.set_xlabel(ax.get_xlabel(), fontsize=16)\n",
    "\n",
    "for labels in disp.text_.ravel():\n",
    "    labels.set_fontsize(16)\n",
    "\n",
    "plt.tight_layout()\n",
    "plt.grid(None)\n",
    "plt.savefig('./../images/cm-logistic-no-null-no-missing.png');"
   ]
  },
  {
   "cell_type": "markdown",
   "id": "a414c66c",
   "metadata": {},
   "source": [
    "## Random Forest"
   ]
  },
  {
   "cell_type": "code",
   "execution_count": null,
   "id": "4ebe0355",
   "metadata": {},
   "outputs": [],
   "source": [
    "X_rf_train"
   ]
  },
  {
   "cell_type": "code",
   "execution_count": null,
   "id": "b72660e8",
   "metadata": {},
   "outputs": [],
   "source": [
    "y_rf_train"
   ]
  },
  {
   "cell_type": "code",
   "execution_count": null,
   "id": "73e8628e",
   "metadata": {},
   "outputs": [],
   "source": [
    "model_rf = RandomForestClassifier(n_estimators=100, criterion='gini')"
   ]
  },
  {
   "cell_type": "code",
   "execution_count": null,
   "id": "43731764",
   "metadata": {},
   "outputs": [],
   "source": [
    "model_rf.fit(X_rf_train, y_rf_train)"
   ]
  },
  {
   "cell_type": "code",
   "execution_count": null,
   "id": "e122679e",
   "metadata": {},
   "outputs": [],
   "source": [
    "yhat_rf = model_rf.predict(X_rf_test)\n",
    "# rf_probs = model_rf.predict_proba(X_rf_test)[:, 1]\n",
    "# log_prec, log_rec, _ = precision_recall_curve(y_rf_test, rf_probs)"
   ]
  },
  {
   "cell_type": "code",
   "execution_count": null,
   "id": "695eb098",
   "metadata": {},
   "outputs": [],
   "source": [
    "print_recall_precision(y_rf_test, yhat_rf)"
   ]
  },
  {
   "cell_type": "code",
   "execution_count": null,
   "id": "01ca3d8f",
   "metadata": {},
   "outputs": [],
   "source": [
    "plot_precision_recall_curve(\n",
    "    model_rf, X_rf_test, y_rf_test, label='Random Forest', \n",
    "    title=('Precision-Recall Plot: Random '\n",
    "        + 'Forest, 57.5k rows, No Null and Missing Values'))\n",
    "plt.savefig('./../images/prp-rforest-no-null-no-missing.png')"
   ]
  },
  {
   "cell_type": "code",
   "execution_count": null,
   "id": "468c1bf4",
   "metadata": {},
   "outputs": [],
   "source": [
    "fig, ax = plt.subplots(figsize=(10, 7))\n",
    "cm_rf = confusion_matrix(y_rf_test, yhat_rf, labels=model_rf.classes_)\n",
    "disp = ConfusionMatrixDisplay(confusion_matrix=cm_rf, display_labels=model_rf.classes_)\n",
    "disp.plot(ax=ax)\n",
    "plt.title('Random Forest, 57.5k rows, No Null and Missing Values', fontsize=18)\n",
    "ax.tick_params(axis='both', labelsize=16)\n",
    "ax.set_ylabel(ax.get_ylabel(), fontsize=16)\n",
    "ax.set_xlabel(ax.get_xlabel(), fontsize=16)\n",
    "\n",
    "for labels in disp.text_.ravel():\n",
    "    labels.set_fontsize(16)\n",
    "    \n",
    "plt.grid(None)\n",
    "plt.tight_layout()\n",
    "plt.savefig('./../images/cm-rforest-no-null-no-missing.png');"
   ]
  },
  {
   "cell_type": "markdown",
   "id": "3809e944",
   "metadata": {},
   "source": [
    "### Feature importance: mean decrease impurity"
   ]
  },
  {
   "cell_type": "code",
   "execution_count": null,
   "id": "b34a4a76",
   "metadata": {},
   "outputs": [],
   "source": [
    "plot_random_forest_feature_importance_mdi(\n",
    "    data_rf, model_rf, title=('Top 10 Feature Importance, Mean Decrease '\n",
    "    + 'Impurity: 57.5k, No Null or Missing Values'))\n",
    "plt.savefig('./../images/feature-importance-no-null-no-missing.png')"
   ]
  },
  {
   "cell_type": "markdown",
   "id": "aa7f04cf",
   "metadata": {},
   "source": [
    "### Trying shap for random forest model"
   ]
  },
  {
   "cell_type": "code",
   "execution_count": null,
   "id": "8e6c474f",
   "metadata": {},
   "outputs": [],
   "source": [
    "# explainer = shap.TreeExplainer(model_rf)\n",
    "# shap_values_rf = explainer.shap_values(X_rf_test)"
   ]
  },
  {
   "cell_type": "code",
   "execution_count": null,
   "id": "746fe98a",
   "metadata": {},
   "outputs": [],
   "source": [
    "# shap.summary_plot(shap_values=shap_values_rf,\n",
    "#                  features=X_rf_train,\n",
    "#                  features_names=data_rf.loc[:, data_rf.columns != 'death_yn'],\n",
    "#                  plot_type='bar')"
   ]
  },
  {
   "cell_type": "markdown",
   "id": "aff5acd1",
   "metadata": {},
   "source": [
    "## Using 'some' dataset and imputing values"
   ]
  },
  {
   "cell_type": "code",
   "execution_count": null,
   "id": "444c75ae",
   "metadata": {},
   "outputs": [],
   "source": [
    "some_nulls_query = \"\"\"\n",
    "            SELECT *\n",
    "            FROM some_null_data;\n",
    "            \"\"\""
   ]
  },
  {
   "cell_type": "code",
   "execution_count": null,
   "id": "9edc3a4f",
   "metadata": {},
   "outputs": [],
   "source": [
    "df_some = get_sql_data('covid_cases', some_nulls_query)"
   ]
  },
  {
   "cell_type": "code",
   "execution_count": null,
   "id": "468bf97d",
   "metadata": {},
   "outputs": [],
   "source": [
    "df_some.head(2)"
   ]
  },
  {
   "cell_type": "code",
   "execution_count": null,
   "id": "e5b85a7b",
   "metadata": {},
   "outputs": [],
   "source": [
    "df_some.shape[0]"
   ]
  },
  {
   "cell_type": "code",
   "execution_count": null,
   "id": "72b784d1",
   "metadata": {},
   "outputs": [],
   "source": [
    "df_some = transform_missing_data(df_some)"
   ]
  },
  {
   "cell_type": "code",
   "execution_count": null,
   "id": "d77dd8aa",
   "metadata": {},
   "outputs": [],
   "source": [
    "df_some.shape[0]"
   ]
  },
  {
   "cell_type": "code",
   "execution_count": null,
   "id": "3b26113b",
   "metadata": {},
   "outputs": [],
   "source": [
    "df_some = transform_df(df_some, columns2drop=columns_drop)"
   ]
  },
  {
   "cell_type": "code",
   "execution_count": null,
   "id": "ae36d35b",
   "metadata": {},
   "outputs": [],
   "source": [
    "df_some.shape[0]"
   ]
  },
  {
   "cell_type": "markdown",
   "id": "a2dfc7ed",
   "metadata": {},
   "source": [
    "## Logistic with imputed values"
   ]
  },
  {
   "cell_type": "code",
   "execution_count": null,
   "id": "78f18647",
   "metadata": {},
   "outputs": [],
   "source": [
    "data_some_log = return_dummified_df(df_some, columns_dummy, drop_first=True)"
   ]
  },
  {
   "cell_type": "code",
   "execution_count": null,
   "id": "d871f942",
   "metadata": {},
   "outputs": [],
   "source": [
    "data_some_log.shape"
   ]
  },
  {
   "cell_type": "code",
   "execution_count": null,
   "id": "3d87a4b5",
   "metadata": {},
   "outputs": [],
   "source": [
    "data_some_log.columns"
   ]
  },
  {
   "cell_type": "code",
   "execution_count": null,
   "id": "657683cc",
   "metadata": {},
   "outputs": [],
   "source": [
    "X_slog, y_slog = return_X_y_arrays(data_some_log)"
   ]
  },
  {
   "cell_type": "code",
   "execution_count": null,
   "id": "2566eee3",
   "metadata": {},
   "outputs": [],
   "source": [
    "scaler_mms = MinMaxScaler()\n",
    "scaler_mms.fit(X_slog[:, :2])"
   ]
  },
  {
   "cell_type": "code",
   "execution_count": null,
   "id": "57fb8131",
   "metadata": {},
   "outputs": [],
   "source": [
    "X_slog[:, :2] = scaler_mms.transform(X_slog[:, :2])"
   ]
  },
  {
   "cell_type": "code",
   "execution_count": null,
   "id": "a72ce11a",
   "metadata": {},
   "outputs": [],
   "source": [
    "X_slog_train, X_slog_test, y_slog_train, y_slog_test = train_test_split(X_slog, y_slog, test_size=0.2)"
   ]
  },
  {
   "cell_type": "code",
   "execution_count": null,
   "id": "e1db6a17",
   "metadata": {},
   "outputs": [],
   "source": [
    "model_slog = LogisticRegression(solver='lbfgs', max_iter=500)"
   ]
  },
  {
   "cell_type": "code",
   "execution_count": null,
   "id": "28ee9f37",
   "metadata": {},
   "outputs": [],
   "source": [
    "model_slog.fit(X_slog_train, y_slog_train)"
   ]
  },
  {
   "cell_type": "code",
   "execution_count": null,
   "id": "e54335df",
   "metadata": {},
   "outputs": [],
   "source": [
    "yhat_slog = model_slog.predict(X_slog_test)"
   ]
  },
  {
   "cell_type": "code",
   "execution_count": null,
   "id": "9a1eeb9c",
   "metadata": {},
   "outputs": [],
   "source": [
    "print_recall_precision(y_slog_test, yhat_slog)"
   ]
  },
  {
   "cell_type": "code",
   "execution_count": null,
   "id": "9efd014d",
   "metadata": {
    "scrolled": true
   },
   "outputs": [],
   "source": [
    "fig, ax = plt.subplots(figsize=(10, 7))\n",
    "cm_slog = confusion_matrix(y_slog_test, yhat_slog, labels=model_slog.classes_)\n",
    "disp_slog = ConfusionMatrixDisplay(confusion_matrix=cm_slog, display_labels=model_slog.classes_)\n",
    "disp_slog.plot(ax=ax)\n",
    "ax.set_title('Logistic, 203K rows, Imputed Null with Missing Values', fontsize=18)\n",
    "\n",
    "ax.tick_params(axis='both', labelsize=16)\n",
    "ax.set_ylabel(ax.get_ylabel(), fontsize=16)\n",
    "ax.set_xlabel(ax.get_xlabel(), fontsize=16)\n",
    "\n",
    "for labels in disp_slog.text_.ravel():\n",
    "    labels.set_fontsize(16)\n",
    "\n",
    "plt.grid(None)\n",
    "plt.tight_layout()\n",
    "plt.savefig('./../images/cm-logistic-imputed-null-keep-missing.png');"
   ]
  },
  {
   "cell_type": "code",
   "execution_count": null,
   "id": "f5a5cf6e",
   "metadata": {},
   "outputs": [],
   "source": [
    "plot_precision_recall_curve(\n",
    "    model_slog, X_slog_test, y_slog_test, label='Logistic',\n",
    "    title=('Precision-Recall Plot: Logistic'\n",
    "        + ', 203K rows, Imputed Null with Missing Values'))\n",
    "plt.savefig('./../images/prp-logistic-imputed-null-with-missing.png')"
   ]
  },
  {
   "cell_type": "markdown",
   "id": "0c1cafc5",
   "metadata": {},
   "source": [
    "## Random forest with imputed values"
   ]
  },
  {
   "cell_type": "code",
   "execution_count": null,
   "id": "57781a73",
   "metadata": {},
   "outputs": [],
   "source": [
    "data_srf = return_dummified_df(df_some, columns_dummy, drop_first=False)"
   ]
  },
  {
   "cell_type": "code",
   "execution_count": null,
   "id": "b0dd00f2",
   "metadata": {},
   "outputs": [],
   "source": [
    "X_srf, y_srf = return_X_y_arrays(data_srf)"
   ]
  },
  {
   "cell_type": "code",
   "execution_count": null,
   "id": "1d407c88",
   "metadata": {},
   "outputs": [],
   "source": [
    "X_srf_train, X_srf_test, y_srf_train, y_srf_test = train_test_split(X_srf, y_srf, test_size=0.2)"
   ]
  },
  {
   "cell_type": "code",
   "execution_count": null,
   "id": "42cfeec3",
   "metadata": {},
   "outputs": [],
   "source": [
    "X_srf_train"
   ]
  },
  {
   "cell_type": "code",
   "execution_count": null,
   "id": "94eaad80",
   "metadata": {},
   "outputs": [],
   "source": [
    "y_srf_train"
   ]
  },
  {
   "cell_type": "code",
   "execution_count": null,
   "id": "099ce176",
   "metadata": {},
   "outputs": [],
   "source": [
    "model_srf = RandomForestClassifier(n_estimators=100, criterion='gini')"
   ]
  },
  {
   "cell_type": "code",
   "execution_count": null,
   "id": "fb279f80",
   "metadata": {},
   "outputs": [],
   "source": [
    "model_srf.fit(X_srf_train, y_srf_train)"
   ]
  },
  {
   "cell_type": "code",
   "execution_count": null,
   "id": "1829a697",
   "metadata": {},
   "outputs": [],
   "source": [
    "yhat_srf = model_srf.predict(X_srf_test)"
   ]
  },
  {
   "cell_type": "code",
   "execution_count": null,
   "id": "da845568",
   "metadata": {},
   "outputs": [],
   "source": [
    "print_recall_precision(y_srf_test, yhat_srf)"
   ]
  },
  {
   "cell_type": "code",
   "execution_count": null,
   "id": "93f6b7a1",
   "metadata": {},
   "outputs": [],
   "source": [
    "fig, ax = plt.subplots(figsize=(10, 7))\n",
    "cm_srf = confusion_matrix(y_srf_test, yhat_srf, labels=model_srf.classes_)\n",
    "disp_s = ConfusionMatrixDisplay(confusion_matrix=cm_srf, display_labels=model_srf.classes_)\n",
    "disp_s.plot(ax=ax)\n",
    "plt.title('Random Forest, 203K rows, Imputed Null with Missing Values', fontsize=18)\n",
    "ax.tick_params(axis='both', labelsize=16)\n",
    "ax.set_ylabel(ax.get_ylabel(), fontsize=16)\n",
    "ax.set_xlabel(ax.get_xlabel(), fontsize=16)\n",
    "\n",
    "for labels in disp_s.text_.ravel():\n",
    "    labels.set_fontsize(16)\n",
    "\n",
    "plt.grid(None)\n",
    "plt.tight_layout()\n",
    "plt.savefig('./../images/cm-rforest-imputed-null-keep-missing.png');"
   ]
  },
  {
   "cell_type": "code",
   "execution_count": null,
   "id": "497a0cb1",
   "metadata": {},
   "outputs": [],
   "source": [
    "plot_precision_recall_curve(\n",
    "    model_srf, X_srf_test, y_srf_test, label='Random Forest',\n",
    "    title=('Precision-Recall Plot: Random Forest '\n",
    "        + '203K rows, Imputed Null with Missing Values'))\n",
    "plt.savefig('./../images/prp-rforest-imputed-null-with-missing-values.png')"
   ]
  },
  {
   "cell_type": "code",
   "execution_count": null,
   "id": "62eca54a",
   "metadata": {},
   "outputs": [],
   "source": [
    "plot_random_forest_feature_importance_mdi(\n",
    "    data_srf, model_srf, title=('Top 10 Feature Importance, Mean Decrease '\n",
    "    + 'Impurity: 203k rows, Imputed Null with Missing Values'))\n",
    "plt.savefig('./../images/feature-importance-imputed-null-with-missing.png')"
   ]
  },
  {
   "cell_type": "code",
   "execution_count": null,
   "id": "94c2dfc2",
   "metadata": {},
   "outputs": [],
   "source": []
  },
  {
   "cell_type": "code",
   "execution_count": null,
   "id": "e9cebf55",
   "metadata": {},
   "outputs": [],
   "source": [
    "import sys\n",
    "sys.exit()"
   ]
  },
  {
   "cell_type": "markdown",
   "id": "027ba7a4",
   "metadata": {},
   "source": [
    "## Using 'all' dataset and imputing values\n",
    "Removing high null/missing columns"
   ]
  },
  {
   "cell_type": "code",
   "execution_count": null,
   "id": "60d5a466",
   "metadata": {},
   "outputs": [],
   "source": [
    "num_rows = 3_000_000"
   ]
  },
  {
   "cell_type": "code",
   "execution_count": null,
   "id": "894ee0cc",
   "metadata": {},
   "outputs": [],
   "source": [
    "num_rows_string = f'{num_rows/1_000_000}M'"
   ]
  },
  {
   "cell_type": "code",
   "execution_count": null,
   "id": "fc09585b",
   "metadata": {},
   "outputs": [],
   "source": [
    "all_query = \"\"\"\n",
    "            SELECT *\n",
    "            FROM all_case_data\n",
    "            LIMIT %s;\n",
    "            \"\"\""
   ]
  },
  {
   "cell_type": "code",
   "execution_count": null,
   "id": "b087e14d",
   "metadata": {},
   "outputs": [],
   "source": [
    "df_all = get_sql_data('covid_cases', all_query, params=[num_rows])"
   ]
  },
  {
   "cell_type": "code",
   "execution_count": null,
   "id": "4e65d0bf",
   "metadata": {},
   "outputs": [],
   "source": [
    "df_all.shape[0]"
   ]
  },
  {
   "cell_type": "code",
   "execution_count": null,
   "id": "85f9f04e",
   "metadata": {},
   "outputs": [],
   "source": [
    "df_all.head(2)"
   ]
  },
  {
   "cell_type": "code",
   "execution_count": null,
   "id": "dcd12793",
   "metadata": {},
   "outputs": [],
   "source": [
    "df_all = transform_missing_data(df_all)"
   ]
  },
  {
   "cell_type": "code",
   "execution_count": null,
   "id": "116b3717",
   "metadata": {},
   "outputs": [],
   "source": [
    "df_all.shape[0]"
   ]
  },
  {
   "cell_type": "code",
   "execution_count": null,
   "id": "8394f080",
   "metadata": {},
   "outputs": [],
   "source": [
    "df_all = transform_df(df_all, columns2drop=columns_drop)"
   ]
  },
  {
   "cell_type": "code",
   "execution_count": null,
   "id": "47a91d15",
   "metadata": {},
   "outputs": [],
   "source": [
    "df_all.shape[0]"
   ]
  },
  {
   "cell_type": "code",
   "execution_count": null,
   "id": "99d3b407",
   "metadata": {},
   "outputs": [],
   "source": [
    "df_all = df_all.drop(\n",
    "    columns=['underlying_conditions_yn', 'icu_yn', 'exposure_yn', \n",
    "        'case_positive_specimen_interval'])"
   ]
  },
  {
   "cell_type": "code",
   "execution_count": null,
   "id": "6dedf295",
   "metadata": {},
   "outputs": [],
   "source": [
    "columns_dummy_all = ['case_month', 'res_state', 'age_group', 'sex', 'race', 'ethnicity', 'symptom_status', 'hosp_yn', 'low_income_score']"
   ]
  },
  {
   "cell_type": "code",
   "execution_count": null,
   "id": "46daf45a",
   "metadata": {},
   "outputs": [],
   "source": []
  },
  {
   "cell_type": "markdown",
   "id": "f68b9b09",
   "metadata": {},
   "source": [
    "## Logistic with all dataset"
   ]
  },
  {
   "cell_type": "code",
   "execution_count": null,
   "id": "e7a0f948",
   "metadata": {},
   "outputs": [],
   "source": [
    "data_all_log = return_dummified_df(df_all, columns_dummy_all, drop_first=True)"
   ]
  },
  {
   "cell_type": "code",
   "execution_count": null,
   "id": "bcbf3fc0",
   "metadata": {},
   "outputs": [],
   "source": [
    "data_all_log.shape"
   ]
  },
  {
   "cell_type": "code",
   "execution_count": null,
   "id": "4e2f79dc",
   "metadata": {},
   "outputs": [],
   "source": [
    "data_all_log.columns"
   ]
  },
  {
   "cell_type": "code",
   "execution_count": null,
   "id": "c547e43b",
   "metadata": {},
   "outputs": [],
   "source": [
    "X_alog, y_alog = return_X_y_arrays(data_all_log)"
   ]
  },
  {
   "cell_type": "code",
   "execution_count": null,
   "id": "20b0525f",
   "metadata": {},
   "outputs": [],
   "source": [
    "scaler_mms = MinMaxScaler()\n",
    "scaler_mms.fit(X_alog[:, :2])"
   ]
  },
  {
   "cell_type": "code",
   "execution_count": null,
   "id": "7c3d395b",
   "metadata": {},
   "outputs": [],
   "source": [
    "X_alog[:, :2] = scaler_mms.transform(X_alog[:, :2])"
   ]
  },
  {
   "cell_type": "code",
   "execution_count": null,
   "id": "f1ec0bf7",
   "metadata": {},
   "outputs": [],
   "source": [
    "X_alog_train, X_alog_test, y_alog_train, y_alog_test = train_test_split(X_alog, y_alog, test_size=0.2)"
   ]
  },
  {
   "cell_type": "code",
   "execution_count": null,
   "id": "b077e597",
   "metadata": {},
   "outputs": [],
   "source": [
    "model_alog = LogisticRegression(solver='lbfgs', max_iter=500)"
   ]
  },
  {
   "cell_type": "code",
   "execution_count": null,
   "id": "bdb162bc",
   "metadata": {},
   "outputs": [],
   "source": [
    "model_alog.fit(X_alog_train, y_alog_train)"
   ]
  },
  {
   "cell_type": "code",
   "execution_count": null,
   "id": "c2a3d312",
   "metadata": {},
   "outputs": [],
   "source": [
    "yhat_alog = model_alog.predict(X_alog_test)"
   ]
  },
  {
   "cell_type": "code",
   "execution_count": null,
   "id": "fa601f2f",
   "metadata": {},
   "outputs": [],
   "source": [
    "print_recall_precision(y_alog_test, yhat_alog)"
   ]
  },
  {
   "cell_type": "code",
   "execution_count": null,
   "id": "5deb2b8a",
   "metadata": {},
   "outputs": [],
   "source": [
    "fig, ax = plt.subplots(figsize=(10, 7))\n",
    "cm_alog = confusion_matrix(y_alog_test, yhat_alog, labels=model_alog.classes_)\n",
    "disp_alog = ConfusionMatrixDisplay(confusion_matrix=cm_alog, display_labels=model_alog.classes_)\n",
    "disp_alog.plot(ax=ax)\n",
    "plt.title(f'Logistic, {num_rows_string} rows, High Missing Data Features Removed', fontsize=18)\n",
    "\n",
    "ax.tick_params(axis='both', labelsize=16)\n",
    "ax.set_ylabel(ax.get_ylabel(), fontsize=16)\n",
    "ax.set_xlabel(ax.get_xlabel(), fontsize=16)\n",
    "\n",
    "for labels in disp_alog.text_.ravel():\n",
    "    labels.set_fontsize(16)\n",
    "    \n",
    "plt.grid(None)\n",
    "plt.tight_layout()\n",
    "plt.savefig('./../images/cm-logistic-high-missing-features-removed.png');"
   ]
  },
  {
   "cell_type": "code",
   "execution_count": null,
   "id": "3af79072",
   "metadata": {},
   "outputs": [],
   "source": [
    "plot_precision_recall_curve(\n",
    "    model_alog, X_alog_test, y_alog_test, label='Logistic',\n",
    "    title=('Precision-Recall Plot: Logistic, '\n",
    "        + f'{num_rows_string} rows, High Missing Data Features Removed'))\n",
    "plt.savefig('./../images/prp-logistic-high-missing-data-features-removed.png')"
   ]
  },
  {
   "cell_type": "code",
   "execution_count": null,
   "id": "2e1cd1e6",
   "metadata": {},
   "outputs": [],
   "source": []
  },
  {
   "cell_type": "markdown",
   "id": "2ef8a895",
   "metadata": {},
   "source": [
    "## Random forest with all dataset"
   ]
  },
  {
   "cell_type": "code",
   "execution_count": null,
   "id": "4522138e",
   "metadata": {},
   "outputs": [],
   "source": [
    "data_arf = return_dummified_df(df_all, columns_dummy_all, drop_first=False)"
   ]
  },
  {
   "cell_type": "code",
   "execution_count": null,
   "id": "24da99f7",
   "metadata": {},
   "outputs": [],
   "source": [
    "X_arf, y_arf = return_X_y_arrays(data_arf)"
   ]
  },
  {
   "cell_type": "code",
   "execution_count": null,
   "id": "b6782385",
   "metadata": {},
   "outputs": [],
   "source": [
    "X_arf_train, X_arf_test, y_arf_train, y_arf_test = train_test_split(X_arf, y_arf, test_size=0.2)"
   ]
  },
  {
   "cell_type": "code",
   "execution_count": null,
   "id": "752c185a",
   "metadata": {},
   "outputs": [],
   "source": [
    "model_arf = RandomForestClassifier(n_estimators=100, criterion='gini')"
   ]
  },
  {
   "cell_type": "code",
   "execution_count": null,
   "id": "f71021a5",
   "metadata": {},
   "outputs": [],
   "source": [
    "model_arf.fit(X_arf_train, y_arf_train)"
   ]
  },
  {
   "cell_type": "code",
   "execution_count": null,
   "id": "5024b2c1",
   "metadata": {},
   "outputs": [],
   "source": [
    "yhat_arf = model_arf.predict(X_arf_test)"
   ]
  },
  {
   "cell_type": "code",
   "execution_count": null,
   "id": "ff57ef6f",
   "metadata": {},
   "outputs": [],
   "source": [
    "print_recall_precision(y_arf_test, yhat_arf)"
   ]
  },
  {
   "cell_type": "code",
   "execution_count": null,
   "id": "ec9d2bd0",
   "metadata": {},
   "outputs": [],
   "source": [
    "# joblib.dump(model_arf, './../model/random-forest-high-null-features-removed.sav')"
   ]
  },
  {
   "cell_type": "code",
   "execution_count": null,
   "id": "71d09434",
   "metadata": {},
   "outputs": [],
   "source": [
    "fig, ax = plt.subplots(figsize=(10, 7))\n",
    "cm_arf = confusion_matrix(y_arf_test, yhat_arf, labels=model_arf.classes_)\n",
    "disp_a = ConfusionMatrixDisplay(confusion_matrix=cm_arf, display_labels=model_arf.classes_)\n",
    "disp_a.plot(ax=ax)\n",
    "plt.title(f'Random Forest, {num_rows_string} rows, High Missing Data Features Removed', fontsize=18)\n",
    "ax.tick_params(axis='both', labelsize=16)\n",
    "ax.set_ylabel(ax.get_ylabel(), fontsize=16)\n",
    "ax.set_xlabel(ax.get_xlabel(), fontsize=16)\n",
    "\n",
    "for labels in disp_a.text_.ravel():\n",
    "    labels.set_fontsize(16)\n",
    "\n",
    "plt.grid(None)\n",
    "plt.tight_layout()\n",
    "plt.savefig('./../images/cm-rforest-high-missing-features-removed.png');"
   ]
  },
  {
   "cell_type": "code",
   "execution_count": null,
   "id": "9c26466b",
   "metadata": {},
   "outputs": [],
   "source": [
    "plot_precision_recall_curve(\n",
    "    model_arf, X_arf_test, y_arf_test, label='Random Forest',\n",
    "    title=('Precision-Recall Plot: Random Forest, '\n",
    "        + f'{num_rows_string} rows, High Missing Data Features Removed'))\n",
    "plt.savefig('./../images/prp-rforest-high-missing-data-features-removed.png')"
   ]
  },
  {
   "cell_type": "code",
   "execution_count": null,
   "id": "39c1b0e8",
   "metadata": {},
   "outputs": [],
   "source": [
    "plot_random_forest_feature_importance_mdi(\n",
    "    data_arf, model_arf, title=('Top 10 Feature Importance, Mean Decrease '\n",
    "    + f'Impurity: {num_rows_string} rows, High Missing Data Features Removed'))\n",
    "plt.savefig('./../images/feature-importance-high-missing-features-removed.png')"
   ]
  },
  {
   "cell_type": "code",
   "execution_count": null,
   "id": "98ec7b2d",
   "metadata": {},
   "outputs": [],
   "source": [
    "# feat_scores_a.reset_index()['index'][feat_scores_a.reset_index()['index'].str.contains('res_state')].reset_index()"
   ]
  },
  {
   "cell_type": "code",
   "execution_count": null,
   "id": "56e5b188",
   "metadata": {},
   "outputs": [],
   "source": []
  }
 ],
 "metadata": {
  "kernelspec": {
   "display_name": "Python 3",
   "language": "python",
   "name": "python3"
  },
  "language_info": {
   "codemirror_mode": {
    "name": "ipython",
    "version": 3
   },
   "file_extension": ".py",
   "mimetype": "text/x-python",
   "name": "python",
   "nbconvert_exporter": "python",
   "pygments_lexer": "ipython3",
   "version": "3.8.10"
  }
 },
 "nbformat": 4,
 "nbformat_minor": 5
}
