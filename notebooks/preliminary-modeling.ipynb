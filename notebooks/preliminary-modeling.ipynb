{
 "cells": [
  {
   "cell_type": "markdown",
   "id": "fee76292",
   "metadata": {},
   "source": [
    "# Preliminary Predictive Modeling"
   ]
  },
  {
   "cell_type": "code",
   "execution_count": 1,
   "id": "64d17c22",
   "metadata": {},
   "outputs": [],
   "source": [
    "import pandas as pd\n",
    "import numpy as np\n",
    "\n",
    "import matplotlib.pyplot as plt\n",
    "plt.style.use(\"ggplot\")\n",
    "%matplotlib inline\n",
    "\n",
    "from sklearn.dummy import DummyClassifier\n",
    "from sklearn.preprocessing import MinMaxScaler\n",
    "from sklearn.linear_model import LogisticRegression\n",
    "from sklearn.ensemble import RandomForestClassifier\n",
    "from sklearn.model_selection import train_test_split\n",
    "from sklearn.metrics import recall_score, confusion_matrix, ConfusionMatrixDisplay\n",
    "\n",
    "import shap\n",
    "\n",
    "# from typing import Union, Type, List, Dict\n",
    "from typing import List, Tuple\n",
    "\n",
    "pd.set_option(\"display.max_columns\", None)"
   ]
  },
  {
   "cell_type": "code",
   "execution_count": 2,
   "id": "886189ca",
   "metadata": {},
   "outputs": [],
   "source": [
    "from pipeline_to_sql import make_postgres_conn"
   ]
  },
  {
   "cell_type": "markdown",
   "id": "d8fd9355",
   "metadata": {},
   "source": [
    "## Functions"
   ]
  },
  {
   "cell_type": "code",
   "execution_count": 3,
   "id": "7788e3ad",
   "metadata": {},
   "outputs": [],
   "source": [
    "def return_dummified_df(df: pd.DataFrame, dummy_columns: List[str], \n",
    "        drop_first: bool=False) -> pd.DataFrame:\n",
    "    return pd.get_dummies(df, columns=dummy_columns, drop_first=drop_first)"
   ]
  },
  {
   "cell_type": "code",
   "execution_count": 4,
   "id": "789b2861",
   "metadata": {},
   "outputs": [],
   "source": [
    "def return_X_y_arrays(\n",
    "        df:pd.DataFrame, y_column: str='death_yn'\n",
    "        ) -> Tuple[np.ndarray, np.ndarray]:\n",
    "    X = df.loc[:, df.columns != y_column]\n",
    "    y = df.loc[:, y_column]\n",
    "    return X.values, y.values"
   ]
  },
  {
   "cell_type": "code",
   "execution_count": null,
   "id": "80209086",
   "metadata": {},
   "outputs": [],
   "source": []
  },
  {
   "cell_type": "markdown",
   "id": "b2b82c36",
   "metadata": {},
   "source": [
    "## Loading data"
   ]
  },
  {
   "cell_type": "code",
   "execution_count": 5,
   "id": "e6fb9a08",
   "metadata": {},
   "outputs": [],
   "source": [
    "no_nulls_query = \"\"\"\n",
    "            SELECT *\n",
    "            FROM no_null_data;\n",
    "            \"\"\""
   ]
  },
  {
   "cell_type": "code",
   "execution_count": 6,
   "id": "dc0343bf",
   "metadata": {},
   "outputs": [],
   "source": [
    "conn = make_postgres_conn('covid_cases')"
   ]
  },
  {
   "cell_type": "code",
   "execution_count": 7,
   "id": "16ad78c2",
   "metadata": {},
   "outputs": [],
   "source": [
    "df = pd.read_sql(no_nulls_query, conn)\n",
    "conn.close()"
   ]
  },
  {
   "cell_type": "code",
   "execution_count": 8,
   "id": "4729ebd8",
   "metadata": {},
   "outputs": [
    {
     "data": {
      "text/html": [
       "<div>\n",
       "<style scoped>\n",
       "    .dataframe tbody tr th:only-of-type {\n",
       "        vertical-align: middle;\n",
       "    }\n",
       "\n",
       "    .dataframe tbody tr th {\n",
       "        vertical-align: top;\n",
       "    }\n",
       "\n",
       "    .dataframe thead th {\n",
       "        text-align: right;\n",
       "    }\n",
       "</style>\n",
       "<table border=\"1\" class=\"dataframe\">\n",
       "  <thead>\n",
       "    <tr style=\"text-align: right;\">\n",
       "      <th></th>\n",
       "      <th>case_month</th>\n",
       "      <th>res_state</th>\n",
       "      <th>res_county</th>\n",
       "      <th>county_fips_code</th>\n",
       "      <th>age_group</th>\n",
       "      <th>sex</th>\n",
       "      <th>race</th>\n",
       "      <th>ethnicity</th>\n",
       "      <th>case_positive_specimen_interval</th>\n",
       "      <th>case_onset_interval</th>\n",
       "      <th>process</th>\n",
       "      <th>exposure_yn</th>\n",
       "      <th>current_status</th>\n",
       "      <th>symptom_status</th>\n",
       "      <th>hosp_yn</th>\n",
       "      <th>icu_yn</th>\n",
       "      <th>death_yn</th>\n",
       "      <th>underlying_conditions_yn</th>\n",
       "      <th>low_income_score</th>\n",
       "      <th>perc_tribal_ct</th>\n",
       "      <th>perc_rural_ct</th>\n",
       "    </tr>\n",
       "  </thead>\n",
       "  <tbody>\n",
       "    <tr>\n",
       "      <th>0</th>\n",
       "      <td>2020-06</td>\n",
       "      <td>KS</td>\n",
       "      <td>SHAWNEE, KS</td>\n",
       "      <td>20177</td>\n",
       "      <td>18 to 49 years</td>\n",
       "      <td>Female</td>\n",
       "      <td>White</td>\n",
       "      <td>Hispanic/Latino</td>\n",
       "      <td>3.0</td>\n",
       "      <td>0.0</td>\n",
       "      <td>Clinical evaluation</td>\n",
       "      <td>Yes</td>\n",
       "      <td>Laboratory-confirmed case</td>\n",
       "      <td>Symptomatic</td>\n",
       "      <td>No</td>\n",
       "      <td>No</td>\n",
       "      <td>No</td>\n",
       "      <td>No</td>\n",
       "      <td>0.0</td>\n",
       "      <td>0.0</td>\n",
       "      <td>0.023256</td>\n",
       "    </tr>\n",
       "  </tbody>\n",
       "</table>\n",
       "</div>"
      ],
      "text/plain": [
       "  case_month res_state   res_county county_fips_code       age_group     sex  \\\n",
       "0    2020-06        KS  SHAWNEE, KS            20177  18 to 49 years  Female   \n",
       "\n",
       "    race        ethnicity  case_positive_specimen_interval  \\\n",
       "0  White  Hispanic/Latino                              3.0   \n",
       "\n",
       "   case_onset_interval              process exposure_yn  \\\n",
       "0                  0.0  Clinical evaluation         Yes   \n",
       "\n",
       "              current_status symptom_status hosp_yn icu_yn death_yn  \\\n",
       "0  Laboratory-confirmed case    Symptomatic      No     No       No   \n",
       "\n",
       "  underlying_conditions_yn  low_income_score  perc_tribal_ct  perc_rural_ct  \n",
       "0                       No               0.0             0.0       0.023256  "
      ]
     },
     "execution_count": 8,
     "metadata": {},
     "output_type": "execute_result"
    }
   ],
   "source": [
    "df.head(1)"
   ]
  },
  {
   "cell_type": "code",
   "execution_count": 9,
   "id": "4a725022",
   "metadata": {},
   "outputs": [
    {
     "data": {
      "text/plain": [
       "61650"
      ]
     },
     "execution_count": 9,
     "metadata": {},
     "output_type": "execute_result"
    }
   ],
   "source": [
    "df.shape[0]"
   ]
  },
  {
   "cell_type": "markdown",
   "id": "10215dcd",
   "metadata": {},
   "source": [
    "## Data transformation"
   ]
  },
  {
   "cell_type": "code",
   "execution_count": 10,
   "id": "627e9621",
   "metadata": {},
   "outputs": [],
   "source": [
    "# def transform_df(table: pd.DataFrame) -> pd.DataFrame:\n",
    "#     columns_drop = ['res_county', 'county_fips_code', 'process', 'current_status']\n",
    "#     columns_dummy = ['case_month', 'res_state', 'age_group', 'sex', 'race', 'ethnicity', \n",
    "#     'exposure_yn', 'symptom_status', 'hosp_yn', 'icu_yn', 'underlying_conditions_yn', \n",
    "#     'low_income_score']\n",
    "    \n",
    "#     table['death_yn'] = np.where(table['death_yn']=='Yes', 1, 0)\n",
    "#     table['low_income_score'] = table['low_income_score'].replace(\n",
    "#         [0.0, 7.0, 15.0], ['Low', 'Medium', 'High'])\n",
    "#     table['case_month'] = pd.to_datetime(table['case_month']).dt.month_name()\n",
    "    \n",
    "#     table = table.loc[table['current_status']=='Laboratory-confirmed case', :]\n",
    "#     table.reset_index(drop=True, inplace=True)\n",
    "#     table.drop(columns=columns_drop, inplace=True) "
   ]
  },
  {
   "cell_type": "code",
   "execution_count": 11,
   "id": "959315a2",
   "metadata": {},
   "outputs": [],
   "source": [
    "df['death_yn'] = np.where(df['death_yn']=='Yes', 1, 0)\n",
    "df['low_income_score'] = df['low_income_score'].replace(\n",
    "    [0.0, 7.0, 15.0], ['Low', 'Medium', 'High'])\n",
    "df['case_month'] = pd.to_datetime(df['case_month']).dt.month_name()"
   ]
  },
  {
   "cell_type": "code",
   "execution_count": 12,
   "id": "bead9364",
   "metadata": {},
   "outputs": [],
   "source": [
    "columns_drop = ['res_county', 'county_fips_code', 'process', 'current_status']\n",
    "columns_dummy = ['case_month', 'res_state', 'age_group', 'sex', 'race', 'ethnicity', \n",
    "    'exposure_yn', 'symptom_status', 'hosp_yn', 'icu_yn', 'underlying_conditions_yn', \n",
    "    'low_income_score']"
   ]
  },
  {
   "cell_type": "code",
   "execution_count": 13,
   "id": "6671a17d",
   "metadata": {},
   "outputs": [],
   "source": [
    "df = df.loc[df['current_status']=='Laboratory-confirmed case', :]"
   ]
  },
  {
   "cell_type": "code",
   "execution_count": 14,
   "id": "a0654bb6",
   "metadata": {},
   "outputs": [],
   "source": [
    "df.reset_index(drop=True, inplace=True)"
   ]
  },
  {
   "cell_type": "code",
   "execution_count": 15,
   "id": "84bd4a86",
   "metadata": {},
   "outputs": [
    {
     "data": {
      "text/plain": [
       "57515"
      ]
     },
     "execution_count": 15,
     "metadata": {},
     "output_type": "execute_result"
    }
   ],
   "source": [
    "df.shape[0]"
   ]
  },
  {
   "cell_type": "code",
   "execution_count": 16,
   "id": "1cb4722e",
   "metadata": {},
   "outputs": [
    {
     "data": {
      "text/html": [
       "<div>\n",
       "<style scoped>\n",
       "    .dataframe tbody tr th:only-of-type {\n",
       "        vertical-align: middle;\n",
       "    }\n",
       "\n",
       "    .dataframe tbody tr th {\n",
       "        vertical-align: top;\n",
       "    }\n",
       "\n",
       "    .dataframe thead th {\n",
       "        text-align: right;\n",
       "    }\n",
       "</style>\n",
       "<table border=\"1\" class=\"dataframe\">\n",
       "  <thead>\n",
       "    <tr style=\"text-align: right;\">\n",
       "      <th></th>\n",
       "      <th>case_month</th>\n",
       "      <th>res_state</th>\n",
       "      <th>res_county</th>\n",
       "      <th>county_fips_code</th>\n",
       "      <th>age_group</th>\n",
       "      <th>sex</th>\n",
       "      <th>race</th>\n",
       "      <th>ethnicity</th>\n",
       "      <th>case_positive_specimen_interval</th>\n",
       "      <th>case_onset_interval</th>\n",
       "      <th>process</th>\n",
       "      <th>exposure_yn</th>\n",
       "      <th>current_status</th>\n",
       "      <th>symptom_status</th>\n",
       "      <th>hosp_yn</th>\n",
       "      <th>icu_yn</th>\n",
       "      <th>death_yn</th>\n",
       "      <th>underlying_conditions_yn</th>\n",
       "      <th>low_income_score</th>\n",
       "      <th>perc_tribal_ct</th>\n",
       "      <th>perc_rural_ct</th>\n",
       "    </tr>\n",
       "  </thead>\n",
       "  <tbody>\n",
       "    <tr>\n",
       "      <th>0</th>\n",
       "      <td>June</td>\n",
       "      <td>KS</td>\n",
       "      <td>SHAWNEE, KS</td>\n",
       "      <td>20177</td>\n",
       "      <td>18 to 49 years</td>\n",
       "      <td>Female</td>\n",
       "      <td>White</td>\n",
       "      <td>Hispanic/Latino</td>\n",
       "      <td>3.0</td>\n",
       "      <td>0.0</td>\n",
       "      <td>Clinical evaluation</td>\n",
       "      <td>Yes</td>\n",
       "      <td>Laboratory-confirmed case</td>\n",
       "      <td>Symptomatic</td>\n",
       "      <td>No</td>\n",
       "      <td>No</td>\n",
       "      <td>0</td>\n",
       "      <td>No</td>\n",
       "      <td>Low</td>\n",
       "      <td>0.000000</td>\n",
       "      <td>0.023256</td>\n",
       "    </tr>\n",
       "    <tr>\n",
       "      <th>1</th>\n",
       "      <td>December</td>\n",
       "      <td>NV</td>\n",
       "      <td>CLARK, NV</td>\n",
       "      <td>32003</td>\n",
       "      <td>18 to 49 years</td>\n",
       "      <td>Male</td>\n",
       "      <td>Asian</td>\n",
       "      <td>Hispanic/Latino</td>\n",
       "      <td>0.0</td>\n",
       "      <td>0.0</td>\n",
       "      <td>Routine surveillance</td>\n",
       "      <td>Yes</td>\n",
       "      <td>Laboratory-confirmed case</td>\n",
       "      <td>Symptomatic</td>\n",
       "      <td>No</td>\n",
       "      <td>No</td>\n",
       "      <td>0</td>\n",
       "      <td>Yes</td>\n",
       "      <td>Low</td>\n",
       "      <td>0.014374</td>\n",
       "      <td>0.030801</td>\n",
       "    </tr>\n",
       "    <tr>\n",
       "      <th>2</th>\n",
       "      <td>April</td>\n",
       "      <td>OH</td>\n",
       "      <td>MONTGOMERY, OH</td>\n",
       "      <td>39113</td>\n",
       "      <td>18 to 49 years</td>\n",
       "      <td>Female</td>\n",
       "      <td>White</td>\n",
       "      <td>Hispanic/Latino</td>\n",
       "      <td>0.0</td>\n",
       "      <td>0.0</td>\n",
       "      <td>Clinical evaluation</td>\n",
       "      <td>Yes</td>\n",
       "      <td>Laboratory-confirmed case</td>\n",
       "      <td>Symptomatic</td>\n",
       "      <td>No</td>\n",
       "      <td>No</td>\n",
       "      <td>0</td>\n",
       "      <td>Yes</td>\n",
       "      <td>Medium</td>\n",
       "      <td>0.000000</td>\n",
       "      <td>0.006536</td>\n",
       "    </tr>\n",
       "    <tr>\n",
       "      <th>3</th>\n",
       "      <td>June</td>\n",
       "      <td>KS</td>\n",
       "      <td>SHAWNEE, KS</td>\n",
       "      <td>20177</td>\n",
       "      <td>18 to 49 years</td>\n",
       "      <td>Female</td>\n",
       "      <td>White</td>\n",
       "      <td>Hispanic/Latino</td>\n",
       "      <td>0.0</td>\n",
       "      <td>0.0</td>\n",
       "      <td>Clinical evaluation</td>\n",
       "      <td>Yes</td>\n",
       "      <td>Laboratory-confirmed case</td>\n",
       "      <td>Symptomatic</td>\n",
       "      <td>No</td>\n",
       "      <td>No</td>\n",
       "      <td>0</td>\n",
       "      <td>Yes</td>\n",
       "      <td>Low</td>\n",
       "      <td>0.000000</td>\n",
       "      <td>0.023256</td>\n",
       "    </tr>\n",
       "    <tr>\n",
       "      <th>4</th>\n",
       "      <td>April</td>\n",
       "      <td>KS</td>\n",
       "      <td>LYON, KS</td>\n",
       "      <td>20111</td>\n",
       "      <td>18 to 49 years</td>\n",
       "      <td>Female</td>\n",
       "      <td>White</td>\n",
       "      <td>Hispanic/Latino</td>\n",
       "      <td>0.0</td>\n",
       "      <td>0.0</td>\n",
       "      <td>Multiple</td>\n",
       "      <td>Yes</td>\n",
       "      <td>Laboratory-confirmed case</td>\n",
       "      <td>Symptomatic</td>\n",
       "      <td>No</td>\n",
       "      <td>No</td>\n",
       "      <td>0</td>\n",
       "      <td>Yes</td>\n",
       "      <td>Medium</td>\n",
       "      <td>0.000000</td>\n",
       "      <td>1.000000</td>\n",
       "    </tr>\n",
       "    <tr>\n",
       "      <th>...</th>\n",
       "      <td>...</td>\n",
       "      <td>...</td>\n",
       "      <td>...</td>\n",
       "      <td>...</td>\n",
       "      <td>...</td>\n",
       "      <td>...</td>\n",
       "      <td>...</td>\n",
       "      <td>...</td>\n",
       "      <td>...</td>\n",
       "      <td>...</td>\n",
       "      <td>...</td>\n",
       "      <td>...</td>\n",
       "      <td>...</td>\n",
       "      <td>...</td>\n",
       "      <td>...</td>\n",
       "      <td>...</td>\n",
       "      <td>...</td>\n",
       "      <td>...</td>\n",
       "      <td>...</td>\n",
       "      <td>...</td>\n",
       "      <td>...</td>\n",
       "    </tr>\n",
       "    <tr>\n",
       "      <th>57510</th>\n",
       "      <td>March</td>\n",
       "      <td>NV</td>\n",
       "      <td>CLARK, NV</td>\n",
       "      <td>32003</td>\n",
       "      <td>65+ years</td>\n",
       "      <td>Male</td>\n",
       "      <td>White</td>\n",
       "      <td>Non-Hispanic/Latino</td>\n",
       "      <td>0.0</td>\n",
       "      <td>0.0</td>\n",
       "      <td>Multiple</td>\n",
       "      <td>Yes</td>\n",
       "      <td>Laboratory-confirmed case</td>\n",
       "      <td>Symptomatic</td>\n",
       "      <td>Yes</td>\n",
       "      <td>No</td>\n",
       "      <td>0</td>\n",
       "      <td>Yes</td>\n",
       "      <td>Low</td>\n",
       "      <td>0.014374</td>\n",
       "      <td>0.030801</td>\n",
       "    </tr>\n",
       "    <tr>\n",
       "      <th>57511</th>\n",
       "      <td>March</td>\n",
       "      <td>NV</td>\n",
       "      <td>CLARK, NV</td>\n",
       "      <td>32003</td>\n",
       "      <td>65+ years</td>\n",
       "      <td>Male</td>\n",
       "      <td>White</td>\n",
       "      <td>Non-Hispanic/Latino</td>\n",
       "      <td>0.0</td>\n",
       "      <td>0.0</td>\n",
       "      <td>Multiple</td>\n",
       "      <td>Yes</td>\n",
       "      <td>Laboratory-confirmed case</td>\n",
       "      <td>Symptomatic</td>\n",
       "      <td>No</td>\n",
       "      <td>No</td>\n",
       "      <td>0</td>\n",
       "      <td>Yes</td>\n",
       "      <td>Low</td>\n",
       "      <td>0.014374</td>\n",
       "      <td>0.030801</td>\n",
       "    </tr>\n",
       "    <tr>\n",
       "      <th>57512</th>\n",
       "      <td>March</td>\n",
       "      <td>NV</td>\n",
       "      <td>CLARK, NV</td>\n",
       "      <td>32003</td>\n",
       "      <td>65+ years</td>\n",
       "      <td>Male</td>\n",
       "      <td>White</td>\n",
       "      <td>Non-Hispanic/Latino</td>\n",
       "      <td>0.0</td>\n",
       "      <td>0.0</td>\n",
       "      <td>Routine surveillance</td>\n",
       "      <td>Yes</td>\n",
       "      <td>Laboratory-confirmed case</td>\n",
       "      <td>Symptomatic</td>\n",
       "      <td>No</td>\n",
       "      <td>No</td>\n",
       "      <td>0</td>\n",
       "      <td>Yes</td>\n",
       "      <td>Low</td>\n",
       "      <td>0.014374</td>\n",
       "      <td>0.030801</td>\n",
       "    </tr>\n",
       "    <tr>\n",
       "      <th>57513</th>\n",
       "      <td>March</td>\n",
       "      <td>NV</td>\n",
       "      <td>CLARK, NV</td>\n",
       "      <td>32003</td>\n",
       "      <td>65+ years</td>\n",
       "      <td>Male</td>\n",
       "      <td>White</td>\n",
       "      <td>Non-Hispanic/Latino</td>\n",
       "      <td>0.0</td>\n",
       "      <td>0.0</td>\n",
       "      <td>Multiple</td>\n",
       "      <td>Yes</td>\n",
       "      <td>Laboratory-confirmed case</td>\n",
       "      <td>Symptomatic</td>\n",
       "      <td>No</td>\n",
       "      <td>No</td>\n",
       "      <td>0</td>\n",
       "      <td>Yes</td>\n",
       "      <td>Low</td>\n",
       "      <td>0.014374</td>\n",
       "      <td>0.030801</td>\n",
       "    </tr>\n",
       "    <tr>\n",
       "      <th>57514</th>\n",
       "      <td>March</td>\n",
       "      <td>NV</td>\n",
       "      <td>CLARK, NV</td>\n",
       "      <td>32003</td>\n",
       "      <td>65+ years</td>\n",
       "      <td>Male</td>\n",
       "      <td>White</td>\n",
       "      <td>Non-Hispanic/Latino</td>\n",
       "      <td>0.0</td>\n",
       "      <td>0.0</td>\n",
       "      <td>Routine surveillance</td>\n",
       "      <td>Yes</td>\n",
       "      <td>Laboratory-confirmed case</td>\n",
       "      <td>Symptomatic</td>\n",
       "      <td>No</td>\n",
       "      <td>No</td>\n",
       "      <td>0</td>\n",
       "      <td>Yes</td>\n",
       "      <td>Low</td>\n",
       "      <td>0.014374</td>\n",
       "      <td>0.030801</td>\n",
       "    </tr>\n",
       "  </tbody>\n",
       "</table>\n",
       "<p>57515 rows × 21 columns</p>\n",
       "</div>"
      ],
      "text/plain": [
       "      case_month res_state      res_county county_fips_code       age_group  \\\n",
       "0           June        KS     SHAWNEE, KS            20177  18 to 49 years   \n",
       "1       December        NV       CLARK, NV            32003  18 to 49 years   \n",
       "2          April        OH  MONTGOMERY, OH            39113  18 to 49 years   \n",
       "3           June        KS     SHAWNEE, KS            20177  18 to 49 years   \n",
       "4          April        KS        LYON, KS            20111  18 to 49 years   \n",
       "...          ...       ...             ...              ...             ...   \n",
       "57510      March        NV       CLARK, NV            32003       65+ years   \n",
       "57511      March        NV       CLARK, NV            32003       65+ years   \n",
       "57512      March        NV       CLARK, NV            32003       65+ years   \n",
       "57513      March        NV       CLARK, NV            32003       65+ years   \n",
       "57514      March        NV       CLARK, NV            32003       65+ years   \n",
       "\n",
       "          sex   race            ethnicity  case_positive_specimen_interval  \\\n",
       "0      Female  White      Hispanic/Latino                              3.0   \n",
       "1        Male  Asian      Hispanic/Latino                              0.0   \n",
       "2      Female  White      Hispanic/Latino                              0.0   \n",
       "3      Female  White      Hispanic/Latino                              0.0   \n",
       "4      Female  White      Hispanic/Latino                              0.0   \n",
       "...       ...    ...                  ...                              ...   \n",
       "57510    Male  White  Non-Hispanic/Latino                              0.0   \n",
       "57511    Male  White  Non-Hispanic/Latino                              0.0   \n",
       "57512    Male  White  Non-Hispanic/Latino                              0.0   \n",
       "57513    Male  White  Non-Hispanic/Latino                              0.0   \n",
       "57514    Male  White  Non-Hispanic/Latino                              0.0   \n",
       "\n",
       "       case_onset_interval               process exposure_yn  \\\n",
       "0                      0.0   Clinical evaluation         Yes   \n",
       "1                      0.0  Routine surveillance         Yes   \n",
       "2                      0.0   Clinical evaluation         Yes   \n",
       "3                      0.0   Clinical evaluation         Yes   \n",
       "4                      0.0              Multiple         Yes   \n",
       "...                    ...                   ...         ...   \n",
       "57510                  0.0              Multiple         Yes   \n",
       "57511                  0.0              Multiple         Yes   \n",
       "57512                  0.0  Routine surveillance         Yes   \n",
       "57513                  0.0              Multiple         Yes   \n",
       "57514                  0.0  Routine surveillance         Yes   \n",
       "\n",
       "                  current_status symptom_status hosp_yn icu_yn  death_yn  \\\n",
       "0      Laboratory-confirmed case    Symptomatic      No     No         0   \n",
       "1      Laboratory-confirmed case    Symptomatic      No     No         0   \n",
       "2      Laboratory-confirmed case    Symptomatic      No     No         0   \n",
       "3      Laboratory-confirmed case    Symptomatic      No     No         0   \n",
       "4      Laboratory-confirmed case    Symptomatic      No     No         0   \n",
       "...                          ...            ...     ...    ...       ...   \n",
       "57510  Laboratory-confirmed case    Symptomatic     Yes     No         0   \n",
       "57511  Laboratory-confirmed case    Symptomatic      No     No         0   \n",
       "57512  Laboratory-confirmed case    Symptomatic      No     No         0   \n",
       "57513  Laboratory-confirmed case    Symptomatic      No     No         0   \n",
       "57514  Laboratory-confirmed case    Symptomatic      No     No         0   \n",
       "\n",
       "      underlying_conditions_yn low_income_score  perc_tribal_ct  perc_rural_ct  \n",
       "0                           No              Low        0.000000       0.023256  \n",
       "1                          Yes              Low        0.014374       0.030801  \n",
       "2                          Yes           Medium        0.000000       0.006536  \n",
       "3                          Yes              Low        0.000000       0.023256  \n",
       "4                          Yes           Medium        0.000000       1.000000  \n",
       "...                        ...              ...             ...            ...  \n",
       "57510                      Yes              Low        0.014374       0.030801  \n",
       "57511                      Yes              Low        0.014374       0.030801  \n",
       "57512                      Yes              Low        0.014374       0.030801  \n",
       "57513                      Yes              Low        0.014374       0.030801  \n",
       "57514                      Yes              Low        0.014374       0.030801  \n",
       "\n",
       "[57515 rows x 21 columns]"
      ]
     },
     "execution_count": 16,
     "metadata": {},
     "output_type": "execute_result"
    }
   ],
   "source": [
    "df"
   ]
  },
  {
   "cell_type": "code",
   "execution_count": 17,
   "id": "4ccd712f",
   "metadata": {},
   "outputs": [],
   "source": [
    "df.drop(columns=columns_drop, inplace=True)"
   ]
  },
  {
   "cell_type": "code",
   "execution_count": 18,
   "id": "b33dae30",
   "metadata": {},
   "outputs": [],
   "source": [
    "# for logistic regression: drop_first=True, for random forest: drop_first=False\n",
    "# return_dummified_df(df, columns_dummy, drop_first=False).head()"
   ]
  },
  {
   "cell_type": "markdown",
   "id": "8ea4a54e",
   "metadata": {},
   "source": [
    "## Dummy Classifier"
   ]
  },
  {
   "cell_type": "code",
   "execution_count": 88,
   "id": "46489919",
   "metadata": {},
   "outputs": [],
   "source": [
    "data_rf = return_dummified_df(df, columns_dummy, drop_first=False)"
   ]
  },
  {
   "cell_type": "code",
   "execution_count": 89,
   "id": "ebd8a049",
   "metadata": {},
   "outputs": [],
   "source": [
    "X_rf, y_rf = return_X_y_arrays(data_rf)"
   ]
  },
  {
   "cell_type": "code",
   "execution_count": 90,
   "id": "692d97e6",
   "metadata": {},
   "outputs": [],
   "source": [
    "X_rf_train, X_rf_test, y_rf_train, y_rf_test = train_test_split(X_rf, y_rf)"
   ]
  },
  {
   "cell_type": "code",
   "execution_count": 91,
   "id": "b1d207f1",
   "metadata": {},
   "outputs": [
    {
     "data": {
      "text/plain": [
       "DummyClassifier(strategy='stratified')"
      ]
     },
     "execution_count": 91,
     "metadata": {},
     "output_type": "execute_result"
    }
   ],
   "source": [
    "model_dum = DummyClassifier(strategy='stratified')\n",
    "model_dum.fit(X_rf_train, y_rf_train)"
   ]
  },
  {
   "cell_type": "code",
   "execution_count": 92,
   "id": "4a340319",
   "metadata": {},
   "outputs": [],
   "source": [
    "y_dum_pred = model_dum.predict(X_rf_test)"
   ]
  },
  {
   "cell_type": "code",
   "execution_count": 93,
   "id": "f05db10e",
   "metadata": {},
   "outputs": [
    {
     "data": {
      "text/plain": [
       "0.025936599423631124"
      ]
     },
     "execution_count": 93,
     "metadata": {},
     "output_type": "execute_result"
    }
   ],
   "source": [
    "recall_score(y_rf_test, y_dum_pred)"
   ]
  },
  {
   "cell_type": "markdown",
   "id": "b71b7cd3",
   "metadata": {},
   "source": [
    "## Logistic Regression"
   ]
  },
  {
   "cell_type": "code",
   "execution_count": 25,
   "id": "a5200bbc",
   "metadata": {},
   "outputs": [],
   "source": [
    "data_log = return_dummified_df(df, columns_dummy, drop_first=True)"
   ]
  },
  {
   "cell_type": "code",
   "execution_count": 26,
   "id": "691915b6",
   "metadata": {},
   "outputs": [
    {
     "data": {
      "text/plain": [
       "(57515, 44)"
      ]
     },
     "execution_count": 26,
     "metadata": {},
     "output_type": "execute_result"
    }
   ],
   "source": [
    "data_log.shape"
   ]
  },
  {
   "cell_type": "code",
   "execution_count": 27,
   "id": "46fce9f9",
   "metadata": {},
   "outputs": [],
   "source": [
    "X_log, y_log = return_X_y_arrays(data_log)"
   ]
  },
  {
   "cell_type": "code",
   "execution_count": 28,
   "id": "bfe87b81",
   "metadata": {},
   "outputs": [
    {
     "data": {
      "text/plain": [
       "array([[3., 0.],\n",
       "       [0., 0.],\n",
       "       [0., 0.],\n",
       "       ...,\n",
       "       [0., 0.],\n",
       "       [0., 0.],\n",
       "       [0., 0.]])"
      ]
     },
     "execution_count": 28,
     "metadata": {},
     "output_type": "execute_result"
    }
   ],
   "source": [
    "X_log[:, :2]"
   ]
  },
  {
   "cell_type": "code",
   "execution_count": 29,
   "id": "690712cc",
   "metadata": {},
   "outputs": [
    {
     "data": {
      "text/plain": [
       "MinMaxScaler()"
      ]
     },
     "execution_count": 29,
     "metadata": {},
     "output_type": "execute_result"
    }
   ],
   "source": [
    "scaler_mms = MinMaxScaler()\n",
    "scaler_mms.fit(X_log[:, :2])"
   ]
  },
  {
   "cell_type": "code",
   "execution_count": 30,
   "id": "324680a2",
   "metadata": {},
   "outputs": [],
   "source": [
    "X_log[:, :2] = scaler_mms.transform(X_log[:, :2])"
   ]
  },
  {
   "cell_type": "code",
   "execution_count": 31,
   "id": "2f4e4037",
   "metadata": {},
   "outputs": [],
   "source": [
    "X_log_train, X_log_test, y_log_train, y_log_test = train_test_split(X_log, y_log)"
   ]
  },
  {
   "cell_type": "code",
   "execution_count": 32,
   "id": "8cbef887",
   "metadata": {},
   "outputs": [],
   "source": [
    "model_log = LogisticRegression(solver='lbfgs', max_iter=500)"
   ]
  },
  {
   "cell_type": "code",
   "execution_count": 33,
   "id": "90261e52",
   "metadata": {},
   "outputs": [
    {
     "data": {
      "text/plain": [
       "LogisticRegression(max_iter=500)"
      ]
     },
     "execution_count": 33,
     "metadata": {},
     "output_type": "execute_result"
    }
   ],
   "source": [
    "model_log.fit(X_log_train, y_log_train)"
   ]
  },
  {
   "cell_type": "code",
   "execution_count": 34,
   "id": "472c61ed",
   "metadata": {},
   "outputs": [],
   "source": [
    "yhat_log = model_log.predict(X_log_test)"
   ]
  },
  {
   "cell_type": "code",
   "execution_count": 35,
   "id": "0b6014af",
   "metadata": {},
   "outputs": [
    {
     "data": {
      "text/plain": [
       "0.34513274336283184"
      ]
     },
     "execution_count": 35,
     "metadata": {},
     "output_type": "execute_result"
    }
   ],
   "source": [
    "recall_score(y_log_test, yhat_log)"
   ]
  },
  {
   "cell_type": "code",
   "execution_count": 36,
   "id": "1bdd44c2",
   "metadata": {},
   "outputs": [
    {
     "data": {
      "image/png": "[encoded data removed]",
      "text/plain": [
       "<Figure size 432x288 with 2 Axes>"
      ]
     },
     "metadata": {
      "needs_background": "light"
     },
     "output_type": "display_data"
    }
   ],
   "source": [
    "cm_log = confusion_matrix(y_log_test, yhat_log, labels=model_log.classes_)\n",
    "disp = ConfusionMatrixDisplay(confusion_matrix=cm_log, display_labels=model_log.classes_)\n",
    "disp.plot();"
   ]
  },
  {
   "cell_type": "markdown",
   "id": "a414c66c",
   "metadata": {},
   "source": [
    "## Random Forest"
   ]
  },
  {
   "cell_type": "code",
   "execution_count": 37,
   "id": "4ebe0355",
   "metadata": {},
   "outputs": [
    {
     "data": {
      "text/plain": [
       "array([[0.        , 0.        , 0.0078125 , ..., 0.        , 1.        ,\n",
       "        0.        ],\n",
       "       [0.        , 0.        , 0.01437372, ..., 0.        , 1.        ,\n",
       "        0.        ],\n",
       "       [1.        , 0.        , 0.        , ..., 0.        , 1.        ,\n",
       "        0.        ],\n",
       "       ...,\n",
       "       [0.        , 0.        , 0.07692308, ..., 0.        , 1.        ,\n",
       "        0.        ],\n",
       "       [0.        , 0.        , 0.        , ..., 0.        , 1.        ,\n",
       "        0.        ],\n",
       "       [0.        , 0.        , 0.01437372, ..., 0.        , 1.        ,\n",
       "        0.        ]])"
      ]
     },
     "execution_count": 37,
     "metadata": {},
     "output_type": "execute_result"
    }
   ],
   "source": [
    "X_rf_train"
   ]
  },
  {
   "cell_type": "code",
   "execution_count": 38,
   "id": "b72660e8",
   "metadata": {},
   "outputs": [
    {
     "data": {
      "text/plain": [
       "array([0, 0, 0, ..., 0, 1, 0])"
      ]
     },
     "execution_count": 38,
     "metadata": {},
     "output_type": "execute_result"
    }
   ],
   "source": [
    "y_rf_train"
   ]
  },
  {
   "cell_type": "code",
   "execution_count": 39,
   "id": "73e8628e",
   "metadata": {},
   "outputs": [],
   "source": [
    "model_rf = RandomForestClassifier(n_estimators=100, criterion='gini')"
   ]
  },
  {
   "cell_type": "code",
   "execution_count": 40,
   "id": "43731764",
   "metadata": {},
   "outputs": [
    {
     "data": {
      "text/plain": [
       "RandomForestClassifier()"
      ]
     },
     "execution_count": 40,
     "metadata": {},
     "output_type": "execute_result"
    }
   ],
   "source": [
    "model_rf.fit(X_rf_train, y_rf_train)"
   ]
  },
  {
   "cell_type": "code",
   "execution_count": 41,
   "id": "e122679e",
   "metadata": {},
   "outputs": [],
   "source": [
    "yhat_rf = model_rf.predict(X_rf_test)"
   ]
  },
  {
   "cell_type": "code",
   "execution_count": 42,
   "id": "695eb098",
   "metadata": {},
   "outputs": [
    {
     "data": {
      "text/plain": [
       "0.3887240356083086"
      ]
     },
     "execution_count": 42,
     "metadata": {},
     "output_type": "execute_result"
    }
   ],
   "source": [
    "recall_score(y_rf_test, yhat_rf)"
   ]
  },
  {
   "cell_type": "code",
   "execution_count": 43,
   "id": "468c1bf4",
   "metadata": {},
   "outputs": [
    {
     "data": {
      "image/png": "[encoded data removed]",
      "text/plain": [
       "<Figure size 432x288 with 2 Axes>"
      ]
     },
     "metadata": {
      "needs_background": "light"
     },
     "output_type": "display_data"
    }
   ],
   "source": [
    "cm_rf = confusion_matrix(y_rf_test, yhat_rf, labels=model_rf.classes_)\n",
    "disp = ConfusionMatrixDisplay(confusion_matrix=cm_rf, display_labels=model_rf.classes_)\n",
    "disp.plot();"
   ]
  },
  {
   "cell_type": "markdown",
   "id": "3809e944",
   "metadata": {},
   "source": [
    "### Feature importance: mean decrease impurity"
   ]
  },
  {
   "cell_type": "code",
   "execution_count": 44,
   "id": "a8e80f0b",
   "metadata": {},
   "outputs": [
    {
     "data": {
      "image/png": "[encoded data removed]",
      "text/plain": [
       "<Figure size 1008x720 with 1 Axes>"
      ]
     },
     "metadata": {
      "needs_background": "light"
     },
     "output_type": "display_data"
    }
   ],
   "source": [
    "feat_scores = pd.DataFrame(\n",
    "    {'Fraction of Samples Affected': model_rf.feature_importances_},\n",
    "    index=data_rf.loc[:, data_rf.columns != 'death_yn'].columns)\n",
    "feat_scores = feat_scores.sort_values(by='Fraction of Samples Affected')\n",
    "feat_scores.plot(kind='barh', figsize=(14,10));"
   ]
  },
  {
   "cell_type": "markdown",
   "id": "aa7f04cf",
   "metadata": {},
   "source": [
    "### Trying shap for random forest model"
   ]
  },
  {
   "cell_type": "code",
   "execution_count": 45,
   "id": "8e6c474f",
   "metadata": {},
   "outputs": [],
   "source": [
    "# explainer = shap.TreeExplainer(model_rf)\n",
    "# shap_values_rf = explainer.shap_values(X_rf_test)"
   ]
  },
  {
   "cell_type": "code",
   "execution_count": 46,
   "id": "746fe98a",
   "metadata": {},
   "outputs": [],
   "source": [
    "# shap.summary_plot(shap_values=shap_values_rf,\n",
    "#                  features=X_rf_train,\n",
    "#                  features_names=data_rf.loc[:, data_rf.columns != 'death_yn'],\n",
    "#                  plot_type='bar')"
   ]
  },
  {
   "cell_type": "markdown",
   "id": "aff5acd1",
   "metadata": {},
   "source": [
    "## Using 'some' dataset and imputing values"
   ]
  },
  {
   "cell_type": "code",
   "execution_count": 47,
   "id": "444c75ae",
   "metadata": {},
   "outputs": [],
   "source": [
    "some_nulls_query = \"\"\"\n",
    "            SELECT *\n",
    "            FROM some_null_data;\n",
    "            \"\"\"\n",
    "\n",
    "conn = make_postgres_conn('covid_cases')\n",
    "\n",
    "df_some = pd.read_sql(some_nulls_query, conn)\n",
    "conn.close()"
   ]
  },
  {
   "cell_type": "code",
   "execution_count": 48,
   "id": "f8a97418",
   "metadata": {},
   "outputs": [],
   "source": [
    "df_some = df_some[df_some['current_status'] == 'Laboratory-confirmed case']\n",
    "df_some = df_some[~df_some['res_county'].isna()]"
   ]
  },
  {
   "cell_type": "code",
   "execution_count": 49,
   "id": "a6c1dea1",
   "metadata": {},
   "outputs": [
    {
     "data": {
      "text/plain": [
       "age_group                           3019\n",
       "sex                                 6887\n",
       "race                               21842\n",
       "ethnicity                          30636\n",
       "case_positive_specimen_interval    57989\n",
       "case_onset_interval                17843\n",
       "dtype: int64"
      ]
     },
     "execution_count": 49,
     "metadata": {},
     "output_type": "execute_result"
    }
   ],
   "source": [
    "na_counts = df_some.isna().sum(axis=0)\n",
    "na_counts[na_counts != 0]"
   ]
  },
  {
   "cell_type": "code",
   "execution_count": 50,
   "id": "7b43f294",
   "metadata": {},
   "outputs": [],
   "source": [
    "df_some['age_group'] = df_some['age_group'].fillna(df_some['age_group'].mode()[0])\n",
    "df_some['sex'] = df_some['sex'].fillna(df_some['sex'].mode()[0])\n",
    "df_some['race'] = df_some['race'].fillna(df_some['race'].mode()[0])\n",
    "df_some['ethnicity'] = df_some['ethnicity'].fillna(df_some['ethnicity'].mode()[0])\n",
    "df_some['case_positive_specimen_interval'] = df_some['case_positive_specimen_interval'].fillna(df_some['case_positive_specimen_interval'].median())\n",
    "df_some['case_onset_interval'] = df_some['case_onset_interval'].fillna(df_some['case_onset_interval'].median())"
   ]
  },
  {
   "cell_type": "code",
   "execution_count": 51,
   "id": "9a66c365",
   "metadata": {},
   "outputs": [
    {
     "data": {
      "text/plain": [
       "(203698, 21)"
      ]
     },
     "execution_count": 51,
     "metadata": {},
     "output_type": "execute_result"
    }
   ],
   "source": [
    "df_some.shape"
   ]
  },
  {
   "cell_type": "code",
   "execution_count": 52,
   "id": "89044774",
   "metadata": {},
   "outputs": [],
   "source": [
    "df_some['death_yn'] = np.where(df_some['death_yn']=='Yes', 1, 0)\n",
    "df_some['low_income_score'] = df_some['low_income_score'].replace(\n",
    "    [0.0, 7.0, 15.0], ['Low', 'Medium', 'High'])\n",
    "df_some['case_month'] = pd.to_datetime(df_some['case_month']).dt.month_name()"
   ]
  },
  {
   "cell_type": "code",
   "execution_count": 53,
   "id": "7753890d",
   "metadata": {},
   "outputs": [],
   "source": [
    "df_some = df_some.loc[df_some['current_status']=='Laboratory-confirmed case', :]"
   ]
  },
  {
   "cell_type": "code",
   "execution_count": 54,
   "id": "9f4f507f",
   "metadata": {},
   "outputs": [],
   "source": [
    "df_some.reset_index(drop=True, inplace=True)"
   ]
  },
  {
   "cell_type": "code",
   "execution_count": 55,
   "id": "c25f3bec",
   "metadata": {},
   "outputs": [
    {
     "data": {
      "text/plain": [
       "203698"
      ]
     },
     "execution_count": 55,
     "metadata": {},
     "output_type": "execute_result"
    }
   ],
   "source": [
    "df_some.shape[0]"
   ]
  },
  {
   "cell_type": "code",
   "execution_count": 56,
   "id": "d98207cf",
   "metadata": {},
   "outputs": [],
   "source": [
    "df_some.drop(columns=columns_drop, inplace=True)"
   ]
  },
  {
   "cell_type": "code",
   "execution_count": 57,
   "id": "84d82459",
   "metadata": {},
   "outputs": [
    {
     "data": {
      "text/html": [
       "<div>\n",
       "<style scoped>\n",
       "    .dataframe tbody tr th:only-of-type {\n",
       "        vertical-align: middle;\n",
       "    }\n",
       "\n",
       "    .dataframe tbody tr th {\n",
       "        vertical-align: top;\n",
       "    }\n",
       "\n",
       "    .dataframe thead th {\n",
       "        text-align: right;\n",
       "    }\n",
       "</style>\n",
       "<table border=\"1\" class=\"dataframe\">\n",
       "  <thead>\n",
       "    <tr style=\"text-align: right;\">\n",
       "      <th></th>\n",
       "      <th>case_month</th>\n",
       "      <th>res_state</th>\n",
       "      <th>age_group</th>\n",
       "      <th>sex</th>\n",
       "      <th>race</th>\n",
       "      <th>ethnicity</th>\n",
       "      <th>case_positive_specimen_interval</th>\n",
       "      <th>case_onset_interval</th>\n",
       "      <th>exposure_yn</th>\n",
       "      <th>symptom_status</th>\n",
       "      <th>hosp_yn</th>\n",
       "      <th>icu_yn</th>\n",
       "      <th>death_yn</th>\n",
       "      <th>underlying_conditions_yn</th>\n",
       "      <th>low_income_score</th>\n",
       "      <th>perc_tribal_ct</th>\n",
       "      <th>perc_rural_ct</th>\n",
       "    </tr>\n",
       "  </thead>\n",
       "  <tbody>\n",
       "    <tr>\n",
       "      <th>0</th>\n",
       "      <td>May</td>\n",
       "      <td>IA</td>\n",
       "      <td>18 to 49 years</td>\n",
       "      <td>Female</td>\n",
       "      <td>Missing</td>\n",
       "      <td>Hispanic/Latino</td>\n",
       "      <td>0.0</td>\n",
       "      <td>0.0</td>\n",
       "      <td>Yes</td>\n",
       "      <td>Symptomatic</td>\n",
       "      <td>No</td>\n",
       "      <td>No</td>\n",
       "      <td>0</td>\n",
       "      <td>Yes</td>\n",
       "      <td>Low</td>\n",
       "      <td>0.0</td>\n",
       "      <td>0.020408</td>\n",
       "    </tr>\n",
       "    <tr>\n",
       "      <th>1</th>\n",
       "      <td>April</td>\n",
       "      <td>PA</td>\n",
       "      <td>18 to 49 years</td>\n",
       "      <td>Female</td>\n",
       "      <td>Black</td>\n",
       "      <td>Hispanic/Latino</td>\n",
       "      <td>0.0</td>\n",
       "      <td>0.0</td>\n",
       "      <td>Yes</td>\n",
       "      <td>Symptomatic</td>\n",
       "      <td>No</td>\n",
       "      <td>No</td>\n",
       "      <td>0</td>\n",
       "      <td>Yes</td>\n",
       "      <td>Low</td>\n",
       "      <td>0.0</td>\n",
       "      <td>0.013158</td>\n",
       "    </tr>\n",
       "    <tr>\n",
       "      <th>2</th>\n",
       "      <td>July</td>\n",
       "      <td>PA</td>\n",
       "      <td>18 to 49 years</td>\n",
       "      <td>Female</td>\n",
       "      <td>White</td>\n",
       "      <td>Non-Hispanic/Latino</td>\n",
       "      <td>0.0</td>\n",
       "      <td>0.0</td>\n",
       "      <td>Yes</td>\n",
       "      <td>Symptomatic</td>\n",
       "      <td>Yes</td>\n",
       "      <td>No</td>\n",
       "      <td>0</td>\n",
       "      <td>Yes</td>\n",
       "      <td>Low</td>\n",
       "      <td>0.0</td>\n",
       "      <td>1.000000</td>\n",
       "    </tr>\n",
       "    <tr>\n",
       "      <th>3</th>\n",
       "      <td>November</td>\n",
       "      <td>PA</td>\n",
       "      <td>18 to 49 years</td>\n",
       "      <td>Female</td>\n",
       "      <td>White</td>\n",
       "      <td>Hispanic/Latino</td>\n",
       "      <td>0.0</td>\n",
       "      <td>0.0</td>\n",
       "      <td>Yes</td>\n",
       "      <td>Symptomatic</td>\n",
       "      <td>No</td>\n",
       "      <td>No</td>\n",
       "      <td>0</td>\n",
       "      <td>Yes</td>\n",
       "      <td>Medium</td>\n",
       "      <td>0.0</td>\n",
       "      <td>0.086538</td>\n",
       "    </tr>\n",
       "    <tr>\n",
       "      <th>4</th>\n",
       "      <td>June</td>\n",
       "      <td>KS</td>\n",
       "      <td>18 to 49 years</td>\n",
       "      <td>Female</td>\n",
       "      <td>White</td>\n",
       "      <td>Hispanic/Latino</td>\n",
       "      <td>3.0</td>\n",
       "      <td>0.0</td>\n",
       "      <td>Yes</td>\n",
       "      <td>Symptomatic</td>\n",
       "      <td>No</td>\n",
       "      <td>No</td>\n",
       "      <td>0</td>\n",
       "      <td>No</td>\n",
       "      <td>Low</td>\n",
       "      <td>0.0</td>\n",
       "      <td>0.023256</td>\n",
       "    </tr>\n",
       "    <tr>\n",
       "      <th>...</th>\n",
       "      <td>...</td>\n",
       "      <td>...</td>\n",
       "      <td>...</td>\n",
       "      <td>...</td>\n",
       "      <td>...</td>\n",
       "      <td>...</td>\n",
       "      <td>...</td>\n",
       "      <td>...</td>\n",
       "      <td>...</td>\n",
       "      <td>...</td>\n",
       "      <td>...</td>\n",
       "      <td>...</td>\n",
       "      <td>...</td>\n",
       "      <td>...</td>\n",
       "      <td>...</td>\n",
       "      <td>...</td>\n",
       "      <td>...</td>\n",
       "    </tr>\n",
       "    <tr>\n",
       "      <th>203693</th>\n",
       "      <td>August</td>\n",
       "      <td>IL</td>\n",
       "      <td>65+ years</td>\n",
       "      <td>Male</td>\n",
       "      <td>White</td>\n",
       "      <td>Non-Hispanic/Latino</td>\n",
       "      <td>0.0</td>\n",
       "      <td>0.0</td>\n",
       "      <td>Yes</td>\n",
       "      <td>Missing</td>\n",
       "      <td>Yes</td>\n",
       "      <td>Yes</td>\n",
       "      <td>1</td>\n",
       "      <td>Yes</td>\n",
       "      <td>Low</td>\n",
       "      <td>0.0</td>\n",
       "      <td>0.000000</td>\n",
       "    </tr>\n",
       "    <tr>\n",
       "      <th>203694</th>\n",
       "      <td>August</td>\n",
       "      <td>IL</td>\n",
       "      <td>65+ years</td>\n",
       "      <td>Male</td>\n",
       "      <td>White</td>\n",
       "      <td>Non-Hispanic/Latino</td>\n",
       "      <td>0.0</td>\n",
       "      <td>0.0</td>\n",
       "      <td>Yes</td>\n",
       "      <td>Missing</td>\n",
       "      <td>Yes</td>\n",
       "      <td>Yes</td>\n",
       "      <td>1</td>\n",
       "      <td>Yes</td>\n",
       "      <td>Low</td>\n",
       "      <td>0.0</td>\n",
       "      <td>0.000000</td>\n",
       "    </tr>\n",
       "    <tr>\n",
       "      <th>203695</th>\n",
       "      <td>August</td>\n",
       "      <td>IL</td>\n",
       "      <td>65+ years</td>\n",
       "      <td>Male</td>\n",
       "      <td>White</td>\n",
       "      <td>Non-Hispanic/Latino</td>\n",
       "      <td>0.0</td>\n",
       "      <td>0.0</td>\n",
       "      <td>Yes</td>\n",
       "      <td>Missing</td>\n",
       "      <td>Yes</td>\n",
       "      <td>Yes</td>\n",
       "      <td>1</td>\n",
       "      <td>Yes</td>\n",
       "      <td>Low</td>\n",
       "      <td>0.0</td>\n",
       "      <td>0.000000</td>\n",
       "    </tr>\n",
       "    <tr>\n",
       "      <th>203696</th>\n",
       "      <td>April</td>\n",
       "      <td>IL</td>\n",
       "      <td>65+ years</td>\n",
       "      <td>Female</td>\n",
       "      <td>White</td>\n",
       "      <td>Unknown</td>\n",
       "      <td>0.0</td>\n",
       "      <td>0.0</td>\n",
       "      <td>Yes</td>\n",
       "      <td>Missing</td>\n",
       "      <td>Yes</td>\n",
       "      <td>No</td>\n",
       "      <td>1</td>\n",
       "      <td>Yes</td>\n",
       "      <td>Low</td>\n",
       "      <td>0.0</td>\n",
       "      <td>0.000000</td>\n",
       "    </tr>\n",
       "    <tr>\n",
       "      <th>203697</th>\n",
       "      <td>April</td>\n",
       "      <td>IL</td>\n",
       "      <td>65+ years</td>\n",
       "      <td>Male</td>\n",
       "      <td>White</td>\n",
       "      <td>Unknown</td>\n",
       "      <td>0.0</td>\n",
       "      <td>0.0</td>\n",
       "      <td>Yes</td>\n",
       "      <td>Missing</td>\n",
       "      <td>No</td>\n",
       "      <td>No</td>\n",
       "      <td>1</td>\n",
       "      <td>Yes</td>\n",
       "      <td>Low</td>\n",
       "      <td>0.0</td>\n",
       "      <td>0.000000</td>\n",
       "    </tr>\n",
       "  </tbody>\n",
       "</table>\n",
       "<p>203698 rows × 17 columns</p>\n",
       "</div>"
      ],
      "text/plain": [
       "       case_month res_state       age_group     sex     race  \\\n",
       "0             May        IA  18 to 49 years  Female  Missing   \n",
       "1           April        PA  18 to 49 years  Female    Black   \n",
       "2            July        PA  18 to 49 years  Female    White   \n",
       "3        November        PA  18 to 49 years  Female    White   \n",
       "4            June        KS  18 to 49 years  Female    White   \n",
       "...           ...       ...             ...     ...      ...   \n",
       "203693     August        IL       65+ years    Male    White   \n",
       "203694     August        IL       65+ years    Male    White   \n",
       "203695     August        IL       65+ years    Male    White   \n",
       "203696      April        IL       65+ years  Female    White   \n",
       "203697      April        IL       65+ years    Male    White   \n",
       "\n",
       "                  ethnicity  case_positive_specimen_interval  \\\n",
       "0           Hispanic/Latino                              0.0   \n",
       "1           Hispanic/Latino                              0.0   \n",
       "2       Non-Hispanic/Latino                              0.0   \n",
       "3           Hispanic/Latino                              0.0   \n",
       "4           Hispanic/Latino                              3.0   \n",
       "...                     ...                              ...   \n",
       "203693  Non-Hispanic/Latino                              0.0   \n",
       "203694  Non-Hispanic/Latino                              0.0   \n",
       "203695  Non-Hispanic/Latino                              0.0   \n",
       "203696              Unknown                              0.0   \n",
       "203697              Unknown                              0.0   \n",
       "\n",
       "        case_onset_interval exposure_yn symptom_status hosp_yn icu_yn  \\\n",
       "0                       0.0         Yes    Symptomatic      No     No   \n",
       "1                       0.0         Yes    Symptomatic      No     No   \n",
       "2                       0.0         Yes    Symptomatic     Yes     No   \n",
       "3                       0.0         Yes    Symptomatic      No     No   \n",
       "4                       0.0         Yes    Symptomatic      No     No   \n",
       "...                     ...         ...            ...     ...    ...   \n",
       "203693                  0.0         Yes        Missing     Yes    Yes   \n",
       "203694                  0.0         Yes        Missing     Yes    Yes   \n",
       "203695                  0.0         Yes        Missing     Yes    Yes   \n",
       "203696                  0.0         Yes        Missing     Yes     No   \n",
       "203697                  0.0         Yes        Missing      No     No   \n",
       "\n",
       "        death_yn underlying_conditions_yn low_income_score  perc_tribal_ct  \\\n",
       "0              0                      Yes              Low             0.0   \n",
       "1              0                      Yes              Low             0.0   \n",
       "2              0                      Yes              Low             0.0   \n",
       "3              0                      Yes           Medium             0.0   \n",
       "4              0                       No              Low             0.0   \n",
       "...          ...                      ...              ...             ...   \n",
       "203693         1                      Yes              Low             0.0   \n",
       "203694         1                      Yes              Low             0.0   \n",
       "203695         1                      Yes              Low             0.0   \n",
       "203696         1                      Yes              Low             0.0   \n",
       "203697         1                      Yes              Low             0.0   \n",
       "\n",
       "        perc_rural_ct  \n",
       "0            0.020408  \n",
       "1            0.013158  \n",
       "2            1.000000  \n",
       "3            0.086538  \n",
       "4            0.023256  \n",
       "...               ...  \n",
       "203693       0.000000  \n",
       "203694       0.000000  \n",
       "203695       0.000000  \n",
       "203696       0.000000  \n",
       "203697       0.000000  \n",
       "\n",
       "[203698 rows x 17 columns]"
      ]
     },
     "execution_count": 57,
     "metadata": {},
     "output_type": "execute_result"
    }
   ],
   "source": [
    "df_some"
   ]
  },
  {
   "cell_type": "markdown",
   "id": "a2dfc7ed",
   "metadata": {},
   "source": [
    "## Logistic with imputed values"
   ]
  },
  {
   "cell_type": "code",
   "execution_count": 58,
   "id": "78f18647",
   "metadata": {},
   "outputs": [],
   "source": [
    "data_some_log = return_dummified_df(df_some, columns_dummy, drop_first=True)"
   ]
  },
  {
   "cell_type": "code",
   "execution_count": 59,
   "id": "d871f942",
   "metadata": {},
   "outputs": [
    {
     "data": {
      "text/plain": [
       "(203698, 73)"
      ]
     },
     "execution_count": 59,
     "metadata": {},
     "output_type": "execute_result"
    }
   ],
   "source": [
    "data_some_log.shape"
   ]
  },
  {
   "cell_type": "code",
   "execution_count": 60,
   "id": "3d87a4b5",
   "metadata": {},
   "outputs": [
    {
     "data": {
      "text/plain": [
       "Index(['case_positive_specimen_interval', 'case_onset_interval', 'death_yn',\n",
       "       'perc_tribal_ct', 'perc_rural_ct', 'case_month_August',\n",
       "       'case_month_December', 'case_month_February', 'case_month_January',\n",
       "       'case_month_July', 'case_month_June', 'case_month_March',\n",
       "       'case_month_May', 'case_month_November', 'case_month_October',\n",
       "       'case_month_September', 'res_state_AL', 'res_state_CA', 'res_state_CO',\n",
       "       'res_state_DE', 'res_state_FL', 'res_state_IA', 'res_state_ID',\n",
       "       'res_state_IL', 'res_state_KS', 'res_state_KY', 'res_state_LA',\n",
       "       'res_state_MA', 'res_state_MD', 'res_state_MN', 'res_state_NC',\n",
       "       'res_state_ND', 'res_state_NH', 'res_state_NJ', 'res_state_NM',\n",
       "       'res_state_NV', 'res_state_NY', 'res_state_OH', 'res_state_PA',\n",
       "       'res_state_RI', 'res_state_SC', 'res_state_TN', 'res_state_UT',\n",
       "       'res_state_VA', 'res_state_VT', 'res_state_WA', 'res_state_WI',\n",
       "       'age_group_18 to 49 years', 'age_group_50 to 64 years',\n",
       "       'age_group_65+ years', 'age_group_Missing', 'sex_Male', 'sex_Unknown',\n",
       "       'race_Asian', 'race_Black', 'race_Missing', 'race_Multiple/Other',\n",
       "       'race_Native Hawaiian/Other Pacific Islander', 'race_Unknown',\n",
       "       'race_White', 'ethnicity_Missing', 'ethnicity_Non-Hispanic/Latino',\n",
       "       'ethnicity_Unknown', 'symptom_status_Missing',\n",
       "       'symptom_status_Symptomatic', 'symptom_status_Unknown', 'hosp_yn_No',\n",
       "       'hosp_yn_Unknown', 'hosp_yn_Yes', 'icu_yn_Yes',\n",
       "       'underlying_conditions_yn_Yes', 'low_income_score_Low',\n",
       "       'low_income_score_Medium'],\n",
       "      dtype='object')"
      ]
     },
     "execution_count": 60,
     "metadata": {},
     "output_type": "execute_result"
    }
   ],
   "source": [
    "data_some_log.columns"
   ]
  },
  {
   "cell_type": "code",
   "execution_count": 61,
   "id": "657683cc",
   "metadata": {},
   "outputs": [],
   "source": [
    "X_slog, y_slog = return_X_y_arrays(data_some_log)"
   ]
  },
  {
   "cell_type": "code",
   "execution_count": 62,
   "id": "2566eee3",
   "metadata": {},
   "outputs": [
    {
     "data": {
      "text/plain": [
       "MinMaxScaler()"
      ]
     },
     "execution_count": 62,
     "metadata": {},
     "output_type": "execute_result"
    }
   ],
   "source": [
    "scaler_mms = MinMaxScaler()\n",
    "scaler_mms.fit(X_slog[:, :2])"
   ]
  },
  {
   "cell_type": "code",
   "execution_count": 63,
   "id": "57fb8131",
   "metadata": {},
   "outputs": [],
   "source": [
    "X_slog[:, :2] = scaler_mms.transform(X_slog[:, :2])"
   ]
  },
  {
   "cell_type": "code",
   "execution_count": 64,
   "id": "a72ce11a",
   "metadata": {},
   "outputs": [],
   "source": [
    "X_slog_train, X_slog_test, y_slog_train, y_slog_test = train_test_split(X_slog, y_slog)"
   ]
  },
  {
   "cell_type": "code",
   "execution_count": 65,
   "id": "e1db6a17",
   "metadata": {},
   "outputs": [],
   "source": [
    "model_slog = LogisticRegression(solver='lbfgs', max_iter=500)"
   ]
  },
  {
   "cell_type": "code",
   "execution_count": 66,
   "id": "28ee9f37",
   "metadata": {},
   "outputs": [
    {
     "data": {
      "text/plain": [
       "LogisticRegression(max_iter=500)"
      ]
     },
     "execution_count": 66,
     "metadata": {},
     "output_type": "execute_result"
    }
   ],
   "source": [
    "model_slog.fit(X_slog_train, y_slog_train)"
   ]
  },
  {
   "cell_type": "code",
   "execution_count": 67,
   "id": "e54335df",
   "metadata": {},
   "outputs": [],
   "source": [
    "yhat_slog = model_slog.predict(X_slog_test)"
   ]
  },
  {
   "cell_type": "code",
   "execution_count": 68,
   "id": "9a1eeb9c",
   "metadata": {},
   "outputs": [
    {
     "data": {
      "text/plain": [
       "0.38100377765785215"
      ]
     },
     "execution_count": 68,
     "metadata": {},
     "output_type": "execute_result"
    }
   ],
   "source": [
    "recall_score(y_slog_test, yhat_slog)"
   ]
  },
  {
   "cell_type": "code",
   "execution_count": 69,
   "id": "9efd014d",
   "metadata": {},
   "outputs": [
    {
     "data": {
      "image/png": "[encoded data removed]",
      "text/plain": [
       "<Figure size 432x288 with 2 Axes>"
      ]
     },
     "metadata": {
      "needs_background": "light"
     },
     "output_type": "display_data"
    }
   ],
   "source": [
    "cm_slog = confusion_matrix(y_slog_test, yhat_slog, labels=model_slog.classes_)\n",
    "disp_slog = ConfusionMatrixDisplay(confusion_matrix=cm_slog, display_labels=model_slog.classes_)\n",
    "disp_slog.plot();"
   ]
  },
  {
   "cell_type": "markdown",
   "id": "0c1cafc5",
   "metadata": {},
   "source": [
    "## Random forest with imputed values"
   ]
  },
  {
   "cell_type": "code",
   "execution_count": 70,
   "id": "57781a73",
   "metadata": {},
   "outputs": [],
   "source": [
    "data_srf = return_dummified_df(df_some, columns_dummy, drop_first=False)"
   ]
  },
  {
   "cell_type": "code",
   "execution_count": 71,
   "id": "b0dd00f2",
   "metadata": {},
   "outputs": [],
   "source": [
    "X_srf, y_srf = return_X_y_arrays(data_srf)"
   ]
  },
  {
   "cell_type": "code",
   "execution_count": 72,
   "id": "1d407c88",
   "metadata": {},
   "outputs": [],
   "source": [
    "X_srf_train, X_srf_test, y_srf_train, y_srf_test = train_test_split(X_srf, y_srf)"
   ]
  },
  {
   "cell_type": "code",
   "execution_count": 73,
   "id": "42cfeec3",
   "metadata": {},
   "outputs": [
    {
     "data": {
      "text/plain": [
       "array([[0., 0., 0., ..., 0., 1., 0.],\n",
       "       [0., 0., 0., ..., 0., 1., 0.],\n",
       "       [1., 0., 0., ..., 0., 1., 0.],\n",
       "       ...,\n",
       "       [0., 0., 0., ..., 0., 1., 0.],\n",
       "       [0., 0., 0., ..., 0., 1., 0.],\n",
       "       [1., 0., 0., ..., 0., 1., 0.]])"
      ]
     },
     "execution_count": 73,
     "metadata": {},
     "output_type": "execute_result"
    }
   ],
   "source": [
    "X_srf_train"
   ]
  },
  {
   "cell_type": "code",
   "execution_count": 74,
   "id": "94eaad80",
   "metadata": {},
   "outputs": [
    {
     "data": {
      "text/plain": [
       "array([0, 0, 0, ..., 0, 0, 0])"
      ]
     },
     "execution_count": 74,
     "metadata": {},
     "output_type": "execute_result"
    }
   ],
   "source": [
    "y_srf_train"
   ]
  },
  {
   "cell_type": "code",
   "execution_count": 75,
   "id": "099ce176",
   "metadata": {},
   "outputs": [],
   "source": [
    "model_srf = RandomForestClassifier(n_estimators=100, criterion='gini')"
   ]
  },
  {
   "cell_type": "code",
   "execution_count": 76,
   "id": "fb279f80",
   "metadata": {},
   "outputs": [
    {
     "data": {
      "text/plain": [
       "RandomForestClassifier()"
      ]
     },
     "execution_count": 76,
     "metadata": {},
     "output_type": "execute_result"
    }
   ],
   "source": [
    "model_srf.fit(X_srf_train, y_srf_train)"
   ]
  },
  {
   "cell_type": "code",
   "execution_count": 77,
   "id": "1829a697",
   "metadata": {},
   "outputs": [],
   "source": [
    "yhat_srf = model_srf.predict(X_srf_test)"
   ]
  },
  {
   "cell_type": "code",
   "execution_count": 78,
   "id": "da845568",
   "metadata": {},
   "outputs": [
    {
     "data": {
      "text/plain": [
       "0.4929208180388044"
      ]
     },
     "execution_count": 78,
     "metadata": {},
     "output_type": "execute_result"
    }
   ],
   "source": [
    "recall_score(y_srf_test, yhat_srf)"
   ]
  },
  {
   "cell_type": "code",
   "execution_count": 79,
   "id": "93f6b7a1",
   "metadata": {},
   "outputs": [
    {
     "data": {
      "image/png": "[encoded data removed]",
      "text/plain": [
       "<Figure size 432x288 with 2 Axes>"
      ]
     },
     "metadata": {
      "needs_background": "light"
     },
     "output_type": "display_data"
    }
   ],
   "source": [
    "cm_srf = confusion_matrix(y_srf_test, yhat_srf, labels=model_srf.classes_)\n",
    "disp_s = ConfusionMatrixDisplay(confusion_matrix=cm_srf, display_labels=model_srf.classes_)\n",
    "disp_s.plot();"
   ]
  },
  {
   "cell_type": "code",
   "execution_count": 80,
   "id": "ea9a191f",
   "metadata": {},
   "outputs": [
    {
     "data": {
      "image/png": "[encoded data removed]",
      "text/plain": [
       "<Figure size 1008x1440 with 1 Axes>"
      ]
     },
     "metadata": {
      "needs_background": "light"
     },
     "output_type": "display_data"
    }
   ],
   "source": [
    "feat_scores_s = pd.DataFrame(\n",
    "    {'Fraction of Samples Affected': model_srf.feature_importances_},\n",
    "    index=data_srf.loc[:, data_srf.columns != 'death_yn'].columns)\n",
    "feat_scores_s = feat_scores_s.sort_values(by='Fraction of Samples Affected')\n",
    "feat_scores_s.plot(kind='barh', figsize=(14,20));"
   ]
  },
  {
   "cell_type": "code",
   "execution_count": 105,
   "id": "80523c69",
   "metadata": {},
   "outputs": [
    {
     "data": {
      "image/png": "[encoded data removed]",
      "text/plain": [
       "<Figure size 1008x576 with 1 Axes>"
      ]
     },
     "metadata": {
      "needs_background": "light"
     },
     "output_type": "display_data"
    }
   ],
   "source": [
    "test = feat_scores_s.sort_values(by='Fraction of Samples Affected', ascending=False)[:35]\n",
    "test.sort_values(by='Fraction of Samples Affected').plot(kind='barh', figsize=(14,8));"
   ]
  },
  {
   "cell_type": "code",
   "execution_count": null,
   "id": "72380a39",
   "metadata": {},
   "outputs": [],
   "source": []
  }
 ],
 "metadata": {
  "kernelspec": {
   "display_name": "Python 3",
   "language": "python",
   "name": "python3"
  },
  "language_info": {
   "codemirror_mode": {
    "name": "ipython",
    "version": 3
   },
   "file_extension": ".py",
   "mimetype": "text/x-python",
   "name": "python",
   "nbconvert_exporter": "python",
   "pygments_lexer": "ipython3",
   "version": "3.8.10"
  }
 },
 "nbformat": 4,
 "nbformat_minor": 5
}
